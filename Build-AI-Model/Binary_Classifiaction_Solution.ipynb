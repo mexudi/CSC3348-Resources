{
 "cells": [
  {
   "cell_type": "markdown",
   "metadata": {},
   "source": [
    "## Session Objectives\n",
    "\n",
    "In this programming lab, we will be exploring how to use a package called Tenserflow to build our first neural network to predict if house prices are above or below median value. In particular, we will go through the full Deep Learning pipeline, from:\n",
    "\n",
    "* Exploring and Processing the Data\n",
    "* Building and Training our Neural Network\n",
    "* Visualizing Loss and Accuracy\n",
    "* Adding Regularization to our Neural Network"
   ]
  },
  {
   "cell_type": "markdown",
   "metadata": {},
   "source": [
    "## Pre-requisites\n",
    "\n",
    "This programming lab assumes you’ve got Jupyter notebook set up with an environment that has the following packages \n",
    "* keras \"2.10.0\"\n",
    "* tensorflow \"2.10.0\"\n",
    "* pandas\n",
    "* scikit-learn \"1.2.2\"\n",
    "* matplotlib \"3.5.1\""
   ]
  },
  {
   "cell_type": "markdown",
   "metadata": {},
   "source": [
    "# Exploring and Processing the Data\n",
    "\n",
    "Before we code any ML algorithm, the first thing we need to do is to put our data in a format that the algorithm will want. In particular, we need to:\n",
    "\n",
    "* Read in the CSV (comma separated values) file and convert them to arrays. Arrays are a data format that our algorithm can process.\n",
    "* Split our dataset into the input features (which we call x) and the label (which we call y).\n",
    "* Scale the data (we call this normalization) so that the input features have similar orders of magnitude.\n",
    "* Split our dataset into the training set, the validation set and the test set. "
   ]
  },
  {
   "cell_type": "code",
   "execution_count": 1,
   "metadata": {},
   "outputs": [],
   "source": [
    "import pandas as pd"
   ]
  },
  {
   "cell_type": "code",
   "execution_count": 2,
   "metadata": {},
   "outputs": [],
   "source": [
    "df = pd.read_csv('./input/housepricedata.csv')"
   ]
  },
  {
   "cell_type": "code",
   "execution_count": 3,
   "metadata": {},
   "outputs": [
    {
     "data": {
      "text/html": [
       "<div>\n",
       "<style scoped>\n",
       "    .dataframe tbody tr th:only-of-type {\n",
       "        vertical-align: middle;\n",
       "    }\n",
       "\n",
       "    .dataframe tbody tr th {\n",
       "        vertical-align: top;\n",
       "    }\n",
       "\n",
       "    .dataframe thead th {\n",
       "        text-align: right;\n",
       "    }\n",
       "</style>\n",
       "<table border=\"1\" class=\"dataframe\">\n",
       "  <thead>\n",
       "    <tr style=\"text-align: right;\">\n",
       "      <th></th>\n",
       "      <th>LotArea</th>\n",
       "      <th>OverallQual</th>\n",
       "      <th>OverallCond</th>\n",
       "      <th>TotalBsmtSF</th>\n",
       "      <th>FullBath</th>\n",
       "      <th>HalfBath</th>\n",
       "      <th>BedroomAbvGr</th>\n",
       "      <th>TotRmsAbvGrd</th>\n",
       "      <th>Fireplaces</th>\n",
       "      <th>GarageArea</th>\n",
       "      <th>AboveMedianPrice</th>\n",
       "    </tr>\n",
       "  </thead>\n",
       "  <tbody>\n",
       "    <tr>\n",
       "      <th>0</th>\n",
       "      <td>8450</td>\n",
       "      <td>7</td>\n",
       "      <td>5</td>\n",
       "      <td>856</td>\n",
       "      <td>2</td>\n",
       "      <td>1</td>\n",
       "      <td>3</td>\n",
       "      <td>8</td>\n",
       "      <td>0</td>\n",
       "      <td>548</td>\n",
       "      <td>1</td>\n",
       "    </tr>\n",
       "    <tr>\n",
       "      <th>1</th>\n",
       "      <td>9600</td>\n",
       "      <td>6</td>\n",
       "      <td>8</td>\n",
       "      <td>1262</td>\n",
       "      <td>2</td>\n",
       "      <td>0</td>\n",
       "      <td>3</td>\n",
       "      <td>6</td>\n",
       "      <td>1</td>\n",
       "      <td>460</td>\n",
       "      <td>1</td>\n",
       "    </tr>\n",
       "    <tr>\n",
       "      <th>2</th>\n",
       "      <td>11250</td>\n",
       "      <td>7</td>\n",
       "      <td>5</td>\n",
       "      <td>920</td>\n",
       "      <td>2</td>\n",
       "      <td>1</td>\n",
       "      <td>3</td>\n",
       "      <td>6</td>\n",
       "      <td>1</td>\n",
       "      <td>608</td>\n",
       "      <td>1</td>\n",
       "    </tr>\n",
       "    <tr>\n",
       "      <th>3</th>\n",
       "      <td>9550</td>\n",
       "      <td>7</td>\n",
       "      <td>5</td>\n",
       "      <td>756</td>\n",
       "      <td>1</td>\n",
       "      <td>0</td>\n",
       "      <td>3</td>\n",
       "      <td>7</td>\n",
       "      <td>1</td>\n",
       "      <td>642</td>\n",
       "      <td>0</td>\n",
       "    </tr>\n",
       "    <tr>\n",
       "      <th>4</th>\n",
       "      <td>14260</td>\n",
       "      <td>8</td>\n",
       "      <td>5</td>\n",
       "      <td>1145</td>\n",
       "      <td>2</td>\n",
       "      <td>1</td>\n",
       "      <td>4</td>\n",
       "      <td>9</td>\n",
       "      <td>1</td>\n",
       "      <td>836</td>\n",
       "      <td>1</td>\n",
       "    </tr>\n",
       "    <tr>\n",
       "      <th>...</th>\n",
       "      <td>...</td>\n",
       "      <td>...</td>\n",
       "      <td>...</td>\n",
       "      <td>...</td>\n",
       "      <td>...</td>\n",
       "      <td>...</td>\n",
       "      <td>...</td>\n",
       "      <td>...</td>\n",
       "      <td>...</td>\n",
       "      <td>...</td>\n",
       "      <td>...</td>\n",
       "    </tr>\n",
       "    <tr>\n",
       "      <th>1455</th>\n",
       "      <td>7917</td>\n",
       "      <td>6</td>\n",
       "      <td>5</td>\n",
       "      <td>953</td>\n",
       "      <td>2</td>\n",
       "      <td>1</td>\n",
       "      <td>3</td>\n",
       "      <td>7</td>\n",
       "      <td>1</td>\n",
       "      <td>460</td>\n",
       "      <td>1</td>\n",
       "    </tr>\n",
       "    <tr>\n",
       "      <th>1456</th>\n",
       "      <td>13175</td>\n",
       "      <td>6</td>\n",
       "      <td>6</td>\n",
       "      <td>1542</td>\n",
       "      <td>2</td>\n",
       "      <td>0</td>\n",
       "      <td>3</td>\n",
       "      <td>7</td>\n",
       "      <td>2</td>\n",
       "      <td>500</td>\n",
       "      <td>1</td>\n",
       "    </tr>\n",
       "    <tr>\n",
       "      <th>1457</th>\n",
       "      <td>9042</td>\n",
       "      <td>7</td>\n",
       "      <td>9</td>\n",
       "      <td>1152</td>\n",
       "      <td>2</td>\n",
       "      <td>0</td>\n",
       "      <td>4</td>\n",
       "      <td>9</td>\n",
       "      <td>2</td>\n",
       "      <td>252</td>\n",
       "      <td>1</td>\n",
       "    </tr>\n",
       "    <tr>\n",
       "      <th>1458</th>\n",
       "      <td>9717</td>\n",
       "      <td>5</td>\n",
       "      <td>6</td>\n",
       "      <td>1078</td>\n",
       "      <td>1</td>\n",
       "      <td>0</td>\n",
       "      <td>2</td>\n",
       "      <td>5</td>\n",
       "      <td>0</td>\n",
       "      <td>240</td>\n",
       "      <td>0</td>\n",
       "    </tr>\n",
       "    <tr>\n",
       "      <th>1459</th>\n",
       "      <td>9937</td>\n",
       "      <td>5</td>\n",
       "      <td>6</td>\n",
       "      <td>1256</td>\n",
       "      <td>1</td>\n",
       "      <td>1</td>\n",
       "      <td>3</td>\n",
       "      <td>6</td>\n",
       "      <td>0</td>\n",
       "      <td>276</td>\n",
       "      <td>0</td>\n",
       "    </tr>\n",
       "  </tbody>\n",
       "</table>\n",
       "<p>1460 rows × 11 columns</p>\n",
       "</div>"
      ],
      "text/plain": [
       "      LotArea  OverallQual  OverallCond  TotalBsmtSF  FullBath  HalfBath  \\\n",
       "0        8450            7            5          856         2         1   \n",
       "1        9600            6            8         1262         2         0   \n",
       "2       11250            7            5          920         2         1   \n",
       "3        9550            7            5          756         1         0   \n",
       "4       14260            8            5         1145         2         1   \n",
       "...       ...          ...          ...          ...       ...       ...   \n",
       "1455     7917            6            5          953         2         1   \n",
       "1456    13175            6            6         1542         2         0   \n",
       "1457     9042            7            9         1152         2         0   \n",
       "1458     9717            5            6         1078         1         0   \n",
       "1459     9937            5            6         1256         1         1   \n",
       "\n",
       "      BedroomAbvGr  TotRmsAbvGrd  Fireplaces  GarageArea  AboveMedianPrice  \n",
       "0                3             8           0         548                 1  \n",
       "1                3             6           1         460                 1  \n",
       "2                3             6           1         608                 1  \n",
       "3                3             7           1         642                 0  \n",
       "4                4             9           1         836                 1  \n",
       "...            ...           ...         ...         ...               ...  \n",
       "1455             3             7           1         460                 1  \n",
       "1456             3             7           2         500                 1  \n",
       "1457             4             9           2         252                 1  \n",
       "1458             2             5           0         240                 0  \n",
       "1459             3             6           0         276                 0  \n",
       "\n",
       "[1460 rows x 11 columns]"
      ]
     },
     "execution_count": 3,
     "metadata": {},
     "output_type": "execute_result"
    }
   ],
   "source": [
    "df"
   ]
  },
  {
   "cell_type": "markdown",
   "metadata": {},
   "source": [
    "Here, you can explore the data a little. We have our input features in the first ten columns:\n",
    "\n",
    "* Lot Area (in sq ft)\n",
    "* Overall Quality (scale from 1 to 10)\n",
    "* Overall Condition (scale from 1 to 10)\n",
    "* Total Basement Area (in sq ft)\n",
    "* Number of Full Bathrooms\n",
    "* Number of Half Bathrooms\n",
    "* Number of Bedrooms above ground\n",
    "* Total Number of Rooms above ground\n",
    "* Number of Fireplaces\n",
    "* Garage Area (in sq ft)\n",
    "\n",
    "In our last column, we have the feature that we would like to predict:\n",
    "\n",
    "* Is the house price above the median or not? (1 for yes and 0 for no)\n",
    "Now that we’ve seen what our data looks like, we want to convert it into arrays for our machine to process:"
   ]
  },
  {
   "cell_type": "markdown",
   "metadata": {},
   "source": [
    "    The dataset that we have now is in what we call a pandas dataframe. To convert it to an array, simply access its values:"
   ]
  },
  {
   "cell_type": "code",
   "execution_count": 4,
   "metadata": {},
   "outputs": [
    {
     "data": {
      "text/plain": [
       "array([[ 8450,     7,     5, ...,     0,   548,     1],\n",
       "       [ 9600,     6,     8, ...,     1,   460,     1],\n",
       "       [11250,     7,     5, ...,     1,   608,     1],\n",
       "       ...,\n",
       "       [ 9042,     7,     9, ...,     2,   252,     1],\n",
       "       [ 9717,     5,     6, ...,     0,   240,     0],\n",
       "       [ 9937,     5,     6, ...,     0,   276,     0]], dtype=int64)"
      ]
     },
     "execution_count": 4,
     "metadata": {},
     "output_type": "execute_result"
    }
   ],
   "source": [
    "dataset = df.values\n",
    "dataset"
   ]
  },
  {
   "cell_type": "markdown",
   "metadata": {},
   "source": [
    "We now split our dataset into input features (X) and the feature we wish to predict (Y). To do that split, we simply assign the first 10 columns of our array to a variable called X and the last column of our array to a variable called Y."
   ]
  },
  {
   "cell_type": "code",
   "execution_count": 5,
   "metadata": {},
   "outputs": [],
   "source": [
    "X = dataset[:,0:10]\n",
    "Y = dataset[:,10]"
   ]
  },
  {
   "cell_type": "markdown",
   "metadata": {},
   "source": [
    "The next step in our processing is to make sure that the scale of the input features are similar. Right now, features such as lot area are in the order of the thousands, a score for overall quality is ranged from 1 to 10, and the number of fireplaces tend to be 0, 1 or 2.\n",
    "\n",
    "This makes it difficult for the initialization of the neural network, which causes some practical problems. One way to scale the data is to use an existing package from scikit-learn."
   ]
  },
  {
   "cell_type": "code",
   "execution_count": 6,
   "metadata": {},
   "outputs": [],
   "source": [
    "from sklearn import preprocessing"
   ]
  },
  {
   "cell_type": "code",
   "execution_count": 7,
   "metadata": {},
   "outputs": [],
   "source": [
    "min_max_scaler = preprocessing.MinMaxScaler()\n",
    "X_scale = min_max_scaler.fit_transform(X)"
   ]
  },
  {
   "cell_type": "code",
   "execution_count": 8,
   "metadata": {},
   "outputs": [
    {
     "data": {
      "text/plain": [
       "array([[0.0334198 , 0.66666667, 0.5       , ..., 0.5       , 0.        ,\n",
       "        0.3864598 ],\n",
       "       [0.03879502, 0.55555556, 0.875     , ..., 0.33333333, 0.33333333,\n",
       "        0.32440056],\n",
       "       [0.04650728, 0.66666667, 0.5       , ..., 0.33333333, 0.33333333,\n",
       "        0.42877292],\n",
       "       ...,\n",
       "       [0.03618687, 0.66666667, 1.        , ..., 0.58333333, 0.66666667,\n",
       "        0.17771509],\n",
       "       [0.03934189, 0.44444444, 0.625     , ..., 0.25      , 0.        ,\n",
       "        0.16925247],\n",
       "       [0.04037019, 0.44444444, 0.625     , ..., 0.33333333, 0.        ,\n",
       "        0.19464034]])"
      ]
     },
     "execution_count": 8,
     "metadata": {},
     "output_type": "execute_result"
    }
   ],
   "source": [
    "X_scale"
   ]
  },
  {
   "cell_type": "markdown",
   "metadata": {},
   "source": [
    "Now, we are down to our last step in processing the data, which is to split our dataset into a training set, a validation set and a test set.\n",
    "\n",
    "We will use the code from scikit-learn called ‘train_test_split’, which as the name suggests, split our dataset into a training set and a test set. We first import the code we need:"
   ]
  },
  {
   "cell_type": "code",
   "execution_count": 9,
   "metadata": {},
   "outputs": [],
   "source": [
    "from sklearn.model_selection import train_test_split"
   ]
  },
  {
   "cell_type": "code",
   "execution_count": 10,
   "metadata": {},
   "outputs": [],
   "source": [
    "X_train, X_val_and_test, Y_train, Y_val_and_test = train_test_split(X_scale, Y, test_size=0.3)"
   ]
  },
  {
   "cell_type": "code",
   "execution_count": 11,
   "metadata": {},
   "outputs": [],
   "source": [
    "X_val, X_test, Y_val, Y_test = train_test_split(X_val_and_test, Y_val_and_test, test_size=0.5)"
   ]
  },
  {
   "cell_type": "code",
   "execution_count": 12,
   "metadata": {},
   "outputs": [
    {
     "name": "stdout",
     "output_type": "stream",
     "text": [
      "(1022, 10) (219, 10) (219, 10) (1022,) (219,) (219,)\n"
     ]
    }
   ],
   "source": [
    "print(X_train.shape, X_val.shape, X_test.shape, Y_train.shape, Y_val.shape, Y_test.shape)"
   ]
  },
  {
   "cell_type": "markdown",
   "metadata": {},
   "source": [
    "In summary, we now have a total of six variables for our datasets we will use:\n",
    "\n",
    "* X_train (10 input features, 70% of full dataset)\n",
    "* X_val (10 input features, 15% of full dataset)\n",
    "* X_test (10 input features, 15% of full dataset)\n",
    "* Y_train (1 label, 70% of full dataset)\n",
    "* Y_val (1 label, 15% of full dataset)\n",
    "* Y_test (1 label, 15% of full dataset)"
   ]
  },
  {
   "cell_type": "markdown",
   "metadata": {},
   "source": [
    "# Building and Training Our First Neural Network"
   ]
  },
  {
   "cell_type": "markdown",
   "metadata": {},
   "source": [
    "As we know, Machine Learning consists of two steps. The first step is to specify a template (an architecture) and the second step is to find the best numbers from the data to fill in that template. Our code from here on will also follow these two steps.\n",
    "\n",
    "## First Step: Setting up the Architecture\n",
    "\n",
    "The first thing we have to do is to set up the architecture. Let’s first think about what kind of neural network architecture we want. Suppose we want this neural network:\n",
    "\n",
    "<figure style=\"padding: 1em;\">\n",
    "<img src=\"https://cdn-media-1.freecodecamp.org/images/H3eAYjXcA2asaCjCYrVT7lc2IIBQGQWzQlPG\" width=\"400\" alt=\"Diagram of network architecture: BatchNorm, Dense, BatchNorm, Dropout, Dense, BatchNorm, Dropout, Dense.\">\n",
    "<figcaption style=\"textalign: center; font-style: italic\"><center>Neural network architecture that we will use for our problem</center></figcaption>\n",
    "</figure>"
   ]
  },
  {
   "cell_type": "markdown",
   "metadata": {},
   "source": [
    "In words, we want to have these layers:\n",
    "\n",
    "* Hidden layer 1: 32 neurons, ReLU activation\n",
    "* Hidden layer 2: 32 neurons, ReLU activation\n",
    "* Output Layer: 1 neuron, Sigmoid activation\n",
    "\n",
    "Now, we need to describe this architecture to Keras. We will be using the Sequential model, which means that we merely need to describe the layers above in sequence."
   ]
  },
  {
   "cell_type": "markdown",
   "metadata": {},
   "source": [
    "We will be using Keras to build our architecture. Let's import the code from Keras that we will need to use:"
   ]
  },
  {
   "cell_type": "code",
   "execution_count": 16,
   "metadata": {},
   "outputs": [],
   "source": [
    "from tensorflow.python.keras.models import Sequential\n",
    "from tensorflow.python.keras.layers import Dense"
   ]
  },
  {
   "cell_type": "code",
   "execution_count": 17,
   "metadata": {},
   "outputs": [],
   "source": [
    "model = Sequential([\n",
    "    Dense(32, activation='relu', input_shape=(10,)),\n",
    "    Dense(32, activation='relu'),\n",
    "    Dense(1, activation='sigmoid'),\n",
    "])"
   ]
  },
  {
   "cell_type": "markdown",
   "metadata": {},
   "source": [
    "And just like that, the code snippet above has defined our architecture! The code above can be interpreted like this:\n",
    "\n",
    "**model = Sequential([ ... ])**\n",
    "\n",
    "This says that we will store our model in the variable ‘model’, and we’ll describe it sequentially (layer by layer) in between the square brackets.\n",
    "\n",
    "**Dense(32, activation='relu', input_shape=(10,)),**\n",
    "\n",
    "We have our first layer as a dense layer with 32 neurons, ReLU activation and the input shape is 10 since we have 10 input features. Note that ‘Dense’ refers to a fully-connected layer, which is what we will be using.\n",
    "\n",
    "**Dense(32, activation='relu'),**\n",
    "\n",
    "Our second layer is also a dense layer with 32 neurons, ReLU activation. Note that we do not have to describe the input shape since Keras can infer from the output of our first layer.\n",
    "\n",
    "**Dense(1, activation='sigmoid'),**\n",
    "\n",
    "Our third layer is a dense layer with 1 neuron, sigmoid activation.\n",
    "\n",
    "And just like that, we have written our model architecture (template) in code!\n",
    "\n",
    "\n",
    "## Second Step: Filling in the best number\n",
    "\n",
    "\n",
    "Now that we've got our architecture specified, we need to find the best numbers for it. Before we start our training, we have to configure the model by\n",
    "- Telling it what algorithm you want to use to do the optimization (we'll use stochastic gradient descent)\n",
    "- Telling it what loss function to use (for binary classification, we will use binary cross entropy)\n",
    "- Telling it what other metrics you want to track apart from the loss function (we want to track accuracy as well)\n",
    "\n",
    "We do so below:"
   ]
  },
  {
   "cell_type": "code",
   "execution_count": 18,
   "metadata": {},
   "outputs": [],
   "source": [
    "model.compile(optimizer='sgd',\n",
    "              loss='binary_crossentropy',\n",
    "              metrics=['accuracy'])"
   ]
  },
  {
   "cell_type": "markdown",
   "metadata": {},
   "source": [
    "We put the following settings inside the brackets after model.compile:\n",
    "\n",
    "optimizer='sgd'\n",
    "\n",
    "‘sgd’ refers to stochastic gradient descent (over here, it refers to mini-batch gradient descent), which we’ve seen in Intuitive Deep Learning Part 1b.\n",
    "\n",
    "loss='binary_crossentropy'\n",
    "\n",
    "The loss function for outputs that take the values 1 or 0 is called binary cross entropy.\n",
    "\n",
    "metrics=['accuracy']\n",
    "\n",
    "Lastly, we want to track accuracy on top of the loss function. Now once we’ve run that cell, we are ready to train!"
   ]
  },
  {
   "cell_type": "markdown",
   "metadata": {},
   "source": [
    "\n",
    "\n",
    "Training on the data is pretty straightforward and requires us to write one line of code. The function is called 'fit' as we are fitting the parameters to the data. We specify:\n",
    "- what data we are training on, which is X_train and Y_train\n",
    "- the size of our mini-batch \n",
    "- how long we want to train it for (epochs)\n",
    "- what our validation data is so that the model will tell us how we are doing on the validation data at each point.\n",
    "\n",
    "This function will output a history, which we save under the variable hist. We'll use this variable a little later."
   ]
  },
  {
   "cell_type": "code",
   "execution_count": 19,
   "metadata": {},
   "outputs": [
    {
     "name": "stdout",
     "output_type": "stream",
     "text": [
      "Epoch 1/100\n",
      "32/32 [==============================] - 2s 14ms/step - loss: 0.7215 - accuracy: 0.5020 - val_loss: 0.7208 - val_accuracy: 0.4612\n",
      "Epoch 2/100\n",
      "32/32 [==============================] - 0s 5ms/step - loss: 0.7103 - accuracy: 0.5000 - val_loss: 0.7093 - val_accuracy: 0.4612\n",
      "Epoch 3/100\n",
      "32/32 [==============================] - 0s 5ms/step - loss: 0.7021 - accuracy: 0.4980 - val_loss: 0.7010 - val_accuracy: 0.4566\n",
      "Epoch 4/100\n",
      "32/32 [==============================] - 0s 5ms/step - loss: 0.6958 - accuracy: 0.4863 - val_loss: 0.6946 - val_accuracy: 0.4521\n",
      "Epoch 5/100\n",
      "32/32 [==============================] - 0s 8ms/step - loss: 0.6902 - accuracy: 0.5323 - val_loss: 0.6889 - val_accuracy: 0.5616\n",
      "Epoch 6/100\n",
      "32/32 [==============================] - 0s 6ms/step - loss: 0.6851 - accuracy: 0.7016 - val_loss: 0.6837 - val_accuracy: 0.6941\n",
      "Epoch 7/100\n",
      "32/32 [==============================] - 0s 9ms/step - loss: 0.6800 - accuracy: 0.7495 - val_loss: 0.6786 - val_accuracy: 0.7534\n",
      "Epoch 8/100\n",
      "32/32 [==============================] - 0s 9ms/step - loss: 0.6746 - accuracy: 0.7642 - val_loss: 0.6727 - val_accuracy: 0.7808\n",
      "Epoch 9/100\n",
      "32/32 [==============================] - 0s 7ms/step - loss: 0.6689 - accuracy: 0.7808 - val_loss: 0.6665 - val_accuracy: 0.7808\n",
      "Epoch 10/100\n",
      "32/32 [==============================] - 0s 8ms/step - loss: 0.6637 - accuracy: 0.7896 - val_loss: 0.6612 - val_accuracy: 0.7854\n",
      "Epoch 11/100\n",
      "32/32 [==============================] - 0s 8ms/step - loss: 0.6589 - accuracy: 0.7847 - val_loss: 0.6562 - val_accuracy: 0.7854\n",
      "Epoch 12/100\n",
      "32/32 [==============================] - 0s 6ms/step - loss: 0.6541 - accuracy: 0.7759 - val_loss: 0.6515 - val_accuracy: 0.7945\n",
      "Epoch 13/100\n",
      "32/32 [==============================] - 1s 17ms/step - loss: 0.6492 - accuracy: 0.7955 - val_loss: 0.6464 - val_accuracy: 0.7945\n",
      "Epoch 14/100\n",
      "32/32 [==============================] - 0s 15ms/step - loss: 0.6441 - accuracy: 0.7926 - val_loss: 0.6411 - val_accuracy: 0.7945\n",
      "Epoch 15/100\n",
      "32/32 [==============================] - 0s 7ms/step - loss: 0.6388 - accuracy: 0.7955 - val_loss: 0.6357 - val_accuracy: 0.8037\n",
      "Epoch 16/100\n",
      "32/32 [==============================] - 0s 9ms/step - loss: 0.6332 - accuracy: 0.8072 - val_loss: 0.6297 - val_accuracy: 0.7945\n",
      "Epoch 17/100\n",
      "32/32 [==============================] - 0s 8ms/step - loss: 0.6275 - accuracy: 0.7984 - val_loss: 0.6239 - val_accuracy: 0.7945\n",
      "Epoch 18/100\n",
      "32/32 [==============================] - 0s 9ms/step - loss: 0.6214 - accuracy: 0.8043 - val_loss: 0.6177 - val_accuracy: 0.7900\n",
      "Epoch 19/100\n",
      "32/32 [==============================] - 0s 8ms/step - loss: 0.6151 - accuracy: 0.8043 - val_loss: 0.6113 - val_accuracy: 0.8037\n",
      "Epoch 20/100\n",
      "32/32 [==============================] - 0s 6ms/step - loss: 0.6083 - accuracy: 0.8112 - val_loss: 0.6043 - val_accuracy: 0.8037\n",
      "Epoch 21/100\n",
      "32/32 [==============================] - 0s 6ms/step - loss: 0.6013 - accuracy: 0.8112 - val_loss: 0.5974 - val_accuracy: 0.8128\n",
      "Epoch 22/100\n",
      "32/32 [==============================] - 0s 6ms/step - loss: 0.5939 - accuracy: 0.8229 - val_loss: 0.5898 - val_accuracy: 0.8128\n",
      "Epoch 23/100\n",
      "32/32 [==============================] - 0s 4ms/step - loss: 0.5863 - accuracy: 0.8131 - val_loss: 0.5825 - val_accuracy: 0.8265\n",
      "Epoch 24/100\n",
      "32/32 [==============================] - 0s 5ms/step - loss: 0.5783 - accuracy: 0.8239 - val_loss: 0.5744 - val_accuracy: 0.8219\n",
      "Epoch 25/100\n",
      "32/32 [==============================] - 0s 4ms/step - loss: 0.5699 - accuracy: 0.8346 - val_loss: 0.5656 - val_accuracy: 0.8219\n",
      "Epoch 26/100\n",
      "32/32 [==============================] - 0s 4ms/step - loss: 0.5611 - accuracy: 0.8386 - val_loss: 0.5564 - val_accuracy: 0.8219\n",
      "Epoch 27/100\n",
      "32/32 [==============================] - 0s 6ms/step - loss: 0.5520 - accuracy: 0.8337 - val_loss: 0.5481 - val_accuracy: 0.8219\n",
      "Epoch 28/100\n",
      "32/32 [==============================] - 0s 6ms/step - loss: 0.5428 - accuracy: 0.8425 - val_loss: 0.5381 - val_accuracy: 0.8219\n",
      "Epoch 29/100\n",
      "32/32 [==============================] - 0s 4ms/step - loss: 0.5334 - accuracy: 0.8405 - val_loss: 0.5289 - val_accuracy: 0.8219\n",
      "Epoch 30/100\n",
      "32/32 [==============================] - 0s 4ms/step - loss: 0.5236 - accuracy: 0.8483 - val_loss: 0.5187 - val_accuracy: 0.8219\n",
      "Epoch 31/100\n",
      "32/32 [==============================] - 0s 9ms/step - loss: 0.5134 - accuracy: 0.8464 - val_loss: 0.5085 - val_accuracy: 0.8219\n",
      "Epoch 32/100\n",
      "32/32 [==============================] - 0s 5ms/step - loss: 0.5035 - accuracy: 0.8464 - val_loss: 0.4988 - val_accuracy: 0.8311\n",
      "Epoch 33/100\n",
      "32/32 [==============================] - 0s 4ms/step - loss: 0.4932 - accuracy: 0.8523 - val_loss: 0.4887 - val_accuracy: 0.8447\n",
      "Epoch 34/100\n",
      "32/32 [==============================] - 0s 4ms/step - loss: 0.4831 - accuracy: 0.8552 - val_loss: 0.4787 - val_accuracy: 0.8447\n",
      "Epoch 35/100\n",
      "32/32 [==============================] - 0s 12ms/step - loss: 0.4732 - accuracy: 0.8552 - val_loss: 0.4686 - val_accuracy: 0.8447\n",
      "Epoch 36/100\n",
      "32/32 [==============================] - 0s 8ms/step - loss: 0.4633 - accuracy: 0.8532 - val_loss: 0.4592 - val_accuracy: 0.8539\n",
      "Epoch 37/100\n",
      "32/32 [==============================] - 0s 7ms/step - loss: 0.4539 - accuracy: 0.8591 - val_loss: 0.4497 - val_accuracy: 0.8584\n",
      "Epoch 38/100\n",
      "32/32 [==============================] - 0s 7ms/step - loss: 0.4445 - accuracy: 0.8601 - val_loss: 0.4408 - val_accuracy: 0.8584\n",
      "Epoch 39/100\n",
      "32/32 [==============================] - 0s 7ms/step - loss: 0.4350 - accuracy: 0.8601 - val_loss: 0.4318 - val_accuracy: 0.8584\n",
      "Epoch 40/100\n",
      "32/32 [==============================] - 0s 6ms/step - loss: 0.4262 - accuracy: 0.8620 - val_loss: 0.4227 - val_accuracy: 0.8539\n",
      "Epoch 41/100\n",
      "32/32 [==============================] - 0s 5ms/step - loss: 0.4182 - accuracy: 0.8630 - val_loss: 0.4147 - val_accuracy: 0.8584\n",
      "Epoch 42/100\n",
      "32/32 [==============================] - 0s 5ms/step - loss: 0.4100 - accuracy: 0.8611 - val_loss: 0.4072 - val_accuracy: 0.8676\n",
      "Epoch 43/100\n",
      "32/32 [==============================] - 0s 5ms/step - loss: 0.4027 - accuracy: 0.8630 - val_loss: 0.3996 - val_accuracy: 0.8630\n",
      "Epoch 44/100\n",
      "32/32 [==============================] - 0s 5ms/step - loss: 0.3956 - accuracy: 0.8659 - val_loss: 0.3926 - val_accuracy: 0.8630\n",
      "Epoch 45/100\n",
      "32/32 [==============================] - 0s 4ms/step - loss: 0.3888 - accuracy: 0.8650 - val_loss: 0.3860 - val_accuracy: 0.8630\n",
      "Epoch 46/100\n",
      "32/32 [==============================] - 0s 5ms/step - loss: 0.3822 - accuracy: 0.8630 - val_loss: 0.3798 - val_accuracy: 0.8630\n",
      "Epoch 47/100\n",
      "32/32 [==============================] - 0s 11ms/step - loss: 0.3763 - accuracy: 0.8630 - val_loss: 0.3739 - val_accuracy: 0.8630\n",
      "Epoch 48/100\n",
      "32/32 [==============================] - 0s 6ms/step - loss: 0.3703 - accuracy: 0.8689 - val_loss: 0.3684 - val_accuracy: 0.8721\n",
      "Epoch 49/100\n",
      "32/32 [==============================] - 0s 7ms/step - loss: 0.3651 - accuracy: 0.8669 - val_loss: 0.3631 - val_accuracy: 0.8630\n",
      "Epoch 50/100\n",
      "32/32 [==============================] - 0s 7ms/step - loss: 0.3604 - accuracy: 0.8669 - val_loss: 0.3582 - val_accuracy: 0.8767\n",
      "Epoch 51/100\n",
      "32/32 [==============================] - 0s 5ms/step - loss: 0.3556 - accuracy: 0.8718 - val_loss: 0.3535 - val_accuracy: 0.8676\n",
      "Epoch 52/100\n",
      "32/32 [==============================] - 0s 5ms/step - loss: 0.3508 - accuracy: 0.8738 - val_loss: 0.3490 - val_accuracy: 0.8721\n",
      "Epoch 53/100\n",
      "32/32 [==============================] - 0s 5ms/step - loss: 0.3471 - accuracy: 0.8728 - val_loss: 0.3451 - val_accuracy: 0.8676\n",
      "Epoch 54/100\n",
      "32/32 [==============================] - 0s 5ms/step - loss: 0.3433 - accuracy: 0.8718 - val_loss: 0.3411 - val_accuracy: 0.8721\n",
      "Epoch 55/100\n",
      "32/32 [==============================] - 0s 4ms/step - loss: 0.3401 - accuracy: 0.8718 - val_loss: 0.3373 - val_accuracy: 0.8767\n",
      "Epoch 56/100\n",
      "32/32 [==============================] - 0s 6ms/step - loss: 0.3358 - accuracy: 0.8738 - val_loss: 0.3344 - val_accuracy: 0.8630\n",
      "Epoch 57/100\n",
      "32/32 [==============================] - 0s 4ms/step - loss: 0.3334 - accuracy: 0.8728 - val_loss: 0.3305 - val_accuracy: 0.8767\n",
      "Epoch 58/100\n",
      "32/32 [==============================] - 0s 6ms/step - loss: 0.3298 - accuracy: 0.8728 - val_loss: 0.3274 - val_accuracy: 0.8767\n",
      "Epoch 59/100\n",
      "32/32 [==============================] - 0s 6ms/step - loss: 0.3274 - accuracy: 0.8718 - val_loss: 0.3244 - val_accuracy: 0.8767\n",
      "Epoch 60/100\n",
      "32/32 [==============================] - 0s 6ms/step - loss: 0.3250 - accuracy: 0.8738 - val_loss: 0.3220 - val_accuracy: 0.8721\n",
      "Epoch 61/100\n",
      "32/32 [==============================] - 0s 11ms/step - loss: 0.3221 - accuracy: 0.8738 - val_loss: 0.3193 - val_accuracy: 0.8721\n",
      "Epoch 62/100\n",
      "32/32 [==============================] - 0s 4ms/step - loss: 0.3203 - accuracy: 0.8728 - val_loss: 0.3164 - val_accuracy: 0.8767\n",
      "Epoch 63/100\n",
      "32/32 [==============================] - 0s 5ms/step - loss: 0.3178 - accuracy: 0.8757 - val_loss: 0.3140 - val_accuracy: 0.8767\n",
      "Epoch 64/100\n",
      "32/32 [==============================] - 0s 4ms/step - loss: 0.3152 - accuracy: 0.8728 - val_loss: 0.3122 - val_accuracy: 0.8676\n",
      "Epoch 65/100\n",
      "32/32 [==============================] - 0s 4ms/step - loss: 0.3137 - accuracy: 0.8767 - val_loss: 0.3101 - val_accuracy: 0.8676\n",
      "Epoch 66/100\n",
      "32/32 [==============================] - 0s 4ms/step - loss: 0.3122 - accuracy: 0.8748 - val_loss: 0.3079 - val_accuracy: 0.8676\n",
      "Epoch 67/100\n",
      "32/32 [==============================] - 0s 5ms/step - loss: 0.3097 - accuracy: 0.8728 - val_loss: 0.3053 - val_accuracy: 0.8721\n",
      "Epoch 68/100\n",
      "32/32 [==============================] - 0s 6ms/step - loss: 0.3082 - accuracy: 0.8748 - val_loss: 0.3043 - val_accuracy: 0.8676\n",
      "Epoch 69/100\n",
      "32/32 [==============================] - 0s 4ms/step - loss: 0.3066 - accuracy: 0.8767 - val_loss: 0.3016 - val_accuracy: 0.8676\n",
      "Epoch 70/100\n",
      "32/32 [==============================] - 0s 5ms/step - loss: 0.3050 - accuracy: 0.8767 - val_loss: 0.3001 - val_accuracy: 0.8676\n",
      "Epoch 71/100\n",
      "32/32 [==============================] - 0s 5ms/step - loss: 0.3030 - accuracy: 0.8738 - val_loss: 0.2976 - val_accuracy: 0.8858\n",
      "Epoch 72/100\n",
      "32/32 [==============================] - 0s 5ms/step - loss: 0.3027 - accuracy: 0.8796 - val_loss: 0.2964 - val_accuracy: 0.8676\n",
      "Epoch 73/100\n",
      "32/32 [==============================] - 0s 4ms/step - loss: 0.3006 - accuracy: 0.8767 - val_loss: 0.2941 - val_accuracy: 0.8813\n",
      "Epoch 74/100\n",
      "32/32 [==============================] - 0s 4ms/step - loss: 0.2994 - accuracy: 0.8787 - val_loss: 0.2927 - val_accuracy: 0.8767\n",
      "Epoch 75/100\n",
      "32/32 [==============================] - 0s 4ms/step - loss: 0.2968 - accuracy: 0.8816 - val_loss: 0.2945 - val_accuracy: 0.8676\n",
      "Epoch 76/100\n",
      "32/32 [==============================] - 0s 4ms/step - loss: 0.2970 - accuracy: 0.8767 - val_loss: 0.2903 - val_accuracy: 0.8721\n",
      "Epoch 77/100\n",
      "32/32 [==============================] - 0s 7ms/step - loss: 0.2948 - accuracy: 0.8757 - val_loss: 0.2907 - val_accuracy: 0.8630\n",
      "Epoch 78/100\n",
      "32/32 [==============================] - 0s 6ms/step - loss: 0.2941 - accuracy: 0.8777 - val_loss: 0.2867 - val_accuracy: 0.8813\n",
      "Epoch 79/100\n",
      "32/32 [==============================] - 0s 9ms/step - loss: 0.2941 - accuracy: 0.8787 - val_loss: 0.2865 - val_accuracy: 0.8721\n",
      "Epoch 80/100\n",
      "32/32 [==============================] - 0s 6ms/step - loss: 0.2923 - accuracy: 0.8806 - val_loss: 0.2843 - val_accuracy: 0.8767\n",
      "Epoch 81/100\n",
      "32/32 [==============================] - 0s 10ms/step - loss: 0.2914 - accuracy: 0.8777 - val_loss: 0.2834 - val_accuracy: 0.8813\n",
      "Epoch 82/100\n",
      "32/32 [==============================] - 0s 5ms/step - loss: 0.2905 - accuracy: 0.8826 - val_loss: 0.2819 - val_accuracy: 0.8767\n",
      "Epoch 83/100\n",
      "32/32 [==============================] - 0s 6ms/step - loss: 0.2895 - accuracy: 0.8836 - val_loss: 0.2810 - val_accuracy: 0.8813\n",
      "Epoch 84/100\n",
      "32/32 [==============================] - 0s 4ms/step - loss: 0.2884 - accuracy: 0.8836 - val_loss: 0.2792 - val_accuracy: 0.8813\n",
      "Epoch 85/100\n",
      "32/32 [==============================] - 0s 4ms/step - loss: 0.2888 - accuracy: 0.8826 - val_loss: 0.2781 - val_accuracy: 0.8813\n",
      "Epoch 86/100\n",
      "32/32 [==============================] - 0s 4ms/step - loss: 0.2871 - accuracy: 0.8816 - val_loss: 0.2773 - val_accuracy: 0.8813\n",
      "Epoch 87/100\n",
      "32/32 [==============================] - 0s 4ms/step - loss: 0.2868 - accuracy: 0.8816 - val_loss: 0.2766 - val_accuracy: 0.8813\n",
      "Epoch 88/100\n",
      "32/32 [==============================] - 0s 4ms/step - loss: 0.2844 - accuracy: 0.8845 - val_loss: 0.2765 - val_accuracy: 0.8767\n",
      "Epoch 89/100\n",
      "32/32 [==============================] - 0s 4ms/step - loss: 0.2848 - accuracy: 0.8845 - val_loss: 0.2740 - val_accuracy: 0.8813\n",
      "Epoch 90/100\n",
      "32/32 [==============================] - 0s 4ms/step - loss: 0.2835 - accuracy: 0.8836 - val_loss: 0.2728 - val_accuracy: 0.8813\n",
      "Epoch 91/100\n",
      "32/32 [==============================] - 0s 4ms/step - loss: 0.2828 - accuracy: 0.8826 - val_loss: 0.2742 - val_accuracy: 0.8767\n",
      "Epoch 92/100\n",
      "32/32 [==============================] - 0s 4ms/step - loss: 0.2825 - accuracy: 0.8855 - val_loss: 0.2716 - val_accuracy: 0.8904\n",
      "Epoch 93/100\n",
      "32/32 [==============================] - 0s 4ms/step - loss: 0.2818 - accuracy: 0.8806 - val_loss: 0.2728 - val_accuracy: 0.8721\n",
      "Epoch 94/100\n",
      "32/32 [==============================] - 0s 4ms/step - loss: 0.2809 - accuracy: 0.8885 - val_loss: 0.2713 - val_accuracy: 0.8767\n",
      "Epoch 95/100\n",
      "32/32 [==============================] - 0s 10ms/step - loss: 0.2810 - accuracy: 0.8855 - val_loss: 0.2692 - val_accuracy: 0.8858\n",
      "Epoch 96/100\n",
      "32/32 [==============================] - 0s 5ms/step - loss: 0.2794 - accuracy: 0.8855 - val_loss: 0.2684 - val_accuracy: 0.8858\n",
      "Epoch 97/100\n",
      "32/32 [==============================] - 0s 4ms/step - loss: 0.2792 - accuracy: 0.8826 - val_loss: 0.2673 - val_accuracy: 0.8858\n",
      "Epoch 98/100\n",
      "32/32 [==============================] - 0s 4ms/step - loss: 0.2783 - accuracy: 0.8855 - val_loss: 0.2659 - val_accuracy: 0.8858\n",
      "Epoch 99/100\n",
      "32/32 [==============================] - 0s 4ms/step - loss: 0.2776 - accuracy: 0.8816 - val_loss: 0.2660 - val_accuracy: 0.8858\n",
      "Epoch 100/100\n",
      "32/32 [==============================] - 0s 4ms/step - loss: 0.2768 - accuracy: 0.8845 - val_loss: 0.2664 - val_accuracy: 0.8721\n"
     ]
    }
   ],
   "source": [
    "hist = model.fit(X_train, Y_train,\n",
    "            batch_size=32, epochs=100,\n",
    "            validation_data=(X_val, Y_val))"
   ]
  },
  {
   "cell_type": "markdown",
   "metadata": {},
   "source": [
    "You can now see that the model is training! By looking at the numbers, you should be able to see the loss decrease and the accuracy increase over time. At this point, you can experiment with the hyper-parameters and neural network architecture. Run the cells again to see how your training has changed when you’ve tweaked your hyperparameters.\n",
    "\n",
    "Once you’re happy with your final model, we can evaluate it on the test set. To find the accuracy on our test set, we run this code snippet:"
   ]
  },
  {
   "cell_type": "code",
   "execution_count": 20,
   "metadata": {},
   "outputs": [
    {
     "name": "stdout",
     "output_type": "stream",
     "text": [
      "7/7 [==============================] - 0s 5ms/step - loss: 0.3119 - accuracy: 0.8995\n"
     ]
    },
    {
     "data": {
      "text/plain": [
       "0.8995434045791626"
      ]
     },
     "execution_count": 20,
     "metadata": {},
     "output_type": "execute_result"
    }
   ],
   "source": [
    "model.evaluate(X_test, Y_test)[1]"
   ]
  },
  {
   "cell_type": "markdown",
   "metadata": {},
   "source": [
    "The reason why we have the index 1 after the model.evaluate function is because the function returns the loss as the first element and the accuracy as the second element. To only output the accuracy, simply access the second element (which is indexed by 1, since the first element starts its indexing from 0).\n",
    "\n",
    "Due to the randomness in how we have split the dataset as well as the initialization of the weights, the numbers and graph will differ slightly each time we run our notebook. Nevertheless, you should get a test accuracy anywhere between 80% to 95% if you’ve followed the architecture I specified above!"
   ]
  },
  {
   "cell_type": "markdown",
   "metadata": {},
   "source": [
    "**Summary:** Coding up our first neural network required only a few lines of code:\n",
    "\n",
    "We specify the architecture with the Keras Sequential model.\n",
    "We specify some of our settings (optimizer, loss function, metrics to track) with model.compile\n",
    "We train our model (find the best parameters for our architecture) with the training data with model.fit\n",
    "We evaluate our model on the test set with model.evaluate"
   ]
  },
  {
   "cell_type": "markdown",
   "metadata": {},
   "source": [
    "# Visualizing Loss and Accuracy"
   ]
  },
  {
   "cell_type": "code",
   "execution_count": 21,
   "metadata": {},
   "outputs": [],
   "source": [
    "import matplotlib.pyplot as plt"
   ]
  },
  {
   "cell_type": "markdown",
   "metadata": {},
   "source": [
    "We want to visualize the training loss and the validation loss like this:"
   ]
  },
  {
   "cell_type": "code",
   "execution_count": 22,
   "metadata": {},
   "outputs": [
    {
     "data": {
      "image/png": "[encoded data removed]",
      "text/plain": [
       "<Figure size 432x288 with 1 Axes>"
      ]
     },
     "metadata": {
      "needs_background": "light"
     },
     "output_type": "display_data"
    }
   ],
   "source": [
    "plt.plot(hist.history['loss'])\n",
    "plt.plot(hist.history['val_loss'])\n",
    "plt.title('Model loss')\n",
    "plt.ylabel('Loss')\n",
    "plt.xlabel('Epoch')\n",
    "plt.legend(['Train', 'Val'], loc='upper right')\n",
    "plt.show()"
   ]
  },
  {
   "cell_type": "markdown",
   "metadata": {},
   "source": [
    "We’ll explain each line of the above code snippet. The first two lines says that we want to plot the loss and the val_loss. The third line specifies the title of this graph, “Model Loss”. The fourth and fifth line tells us what the y and x axis should be labelled respectively. The sixth line includes a legend for our graph, and the location of the legend will be in the upper right. And the seventh line tells Jupyter notebook to display the graph."
   ]
  },
  {
   "cell_type": "markdown",
   "metadata": {},
   "source": [
    "We can do the same to plot our training accuracy and validation accuracy with the code below:|"
   ]
  },
  {
   "cell_type": "code",
   "execution_count": 25,
   "metadata": {},
   "outputs": [
    {
     "data": {
      "image/png": "[encoded data removed]",
      "text/plain": [
       "<Figure size 432x288 with 1 Axes>"
      ]
     },
     "metadata": {
      "needs_background": "light"
     },
     "output_type": "display_data"
    }
   ],
   "source": [
    "plt.plot(hist.history['accuracy'])\n",
    "plt.plot(hist.history['val_accuracy'])\n",
    "plt.title('Model accuracy')\n",
    "plt.ylabel('Accuracy')\n",
    "plt.xlabel('Epoch')\n",
    "plt.legend(['Train', 'Val'], loc='lower right')\n",
    "plt.show()"
   ]
  },
  {
   "cell_type": "markdown",
   "metadata": {},
   "source": [
    "Since the improvements in our model to the training set looks somewhat matched up with improvements to the validation set, it doesn’t seem like overfitting is a huge problem in our model.\n",
    "\n",
    "**Summary:** We use matplotlib to visualize the training and validation loss / accuracy over time to see if there’s overfitting in our model."
   ]
  },
  {
   "cell_type": "markdown",
   "metadata": {},
   "source": [
    "# Adding Regularization to our Neural Network\n",
    "\n",
    "For the sake of introducing regularization to our neural network, let’s formulate with a neural network that will badly overfit on our training set. We’ll call this Model 2.\n",
    "\n",
    "So, basically we will train a model which will overfit."
   ]
  },
  {
   "cell_type": "code",
   "execution_count": 26,
   "metadata": {},
   "outputs": [
    {
     "name": "stdout",
     "output_type": "stream",
     "text": [
      "Epoch 1/100\n",
      "32/32 [==============================] - 4s 69ms/step - loss: 0.4784 - accuracy: 0.7642 - val_loss: 0.3282 - val_accuracy: 0.8584\n",
      "Epoch 2/100\n",
      "32/32 [==============================] - 2s 58ms/step - loss: 0.3595 - accuracy: 0.8532 - val_loss: 0.3133 - val_accuracy: 0.8539\n",
      "Epoch 3/100\n",
      "32/32 [==============================] - 2s 57ms/step - loss: 0.3182 - accuracy: 0.8669 - val_loss: 0.2632 - val_accuracy: 0.8767\n",
      "Epoch 4/100\n",
      "32/32 [==============================] - 2s 61ms/step - loss: 0.2989 - accuracy: 0.8738 - val_loss: 0.2936 - val_accuracy: 0.8356\n",
      "Epoch 5/100\n",
      "32/32 [==============================] - 2s 57ms/step - loss: 0.2855 - accuracy: 0.8767 - val_loss: 0.2570 - val_accuracy: 0.8721\n",
      "Epoch 6/100\n",
      "32/32 [==============================] - 2s 58ms/step - loss: 0.2763 - accuracy: 0.8816 - val_loss: 0.2354 - val_accuracy: 0.8813\n",
      "Epoch 7/100\n",
      "32/32 [==============================] - 2s 63ms/step - loss: 0.2889 - accuracy: 0.8699 - val_loss: 0.2882 - val_accuracy: 0.9224\n",
      "Epoch 8/100\n",
      "32/32 [==============================] - 2s 61ms/step - loss: 0.2640 - accuracy: 0.8914 - val_loss: 0.2533 - val_accuracy: 0.9224\n",
      "Epoch 9/100\n",
      "32/32 [==============================] - 2s 62ms/step - loss: 0.2580 - accuracy: 0.8943 - val_loss: 0.2443 - val_accuracy: 0.9132\n",
      "Epoch 10/100\n",
      "32/32 [==============================] - 2s 61ms/step - loss: 0.2253 - accuracy: 0.9002 - val_loss: 0.2544 - val_accuracy: 0.9041\n",
      "Epoch 11/100\n",
      "32/32 [==============================] - 2s 59ms/step - loss: 0.2424 - accuracy: 0.8963 - val_loss: 0.2129 - val_accuracy: 0.9087\n",
      "Epoch 12/100\n",
      "32/32 [==============================] - 2s 64ms/step - loss: 0.2321 - accuracy: 0.9041 - val_loss: 0.2234 - val_accuracy: 0.8904\n",
      "Epoch 13/100\n",
      "32/32 [==============================] - 2s 61ms/step - loss: 0.2215 - accuracy: 0.9031 - val_loss: 0.2011 - val_accuracy: 0.9315\n",
      "Epoch 14/100\n",
      "32/32 [==============================] - 2s 66ms/step - loss: 0.2183 - accuracy: 0.9061 - val_loss: 0.2170 - val_accuracy: 0.9224\n",
      "Epoch 15/100\n",
      "32/32 [==============================] - 2s 55ms/step - loss: 0.2483 - accuracy: 0.8885 - val_loss: 0.2012 - val_accuracy: 0.8995\n",
      "Epoch 16/100\n",
      "32/32 [==============================] - 2s 57ms/step - loss: 0.2159 - accuracy: 0.9051 - val_loss: 0.2054 - val_accuracy: 0.8950\n",
      "Epoch 17/100\n",
      "32/32 [==============================] - 2s 69ms/step - loss: 0.2178 - accuracy: 0.8982 - val_loss: 0.3215 - val_accuracy: 0.8539\n",
      "Epoch 18/100\n",
      "32/32 [==============================] - 2s 68ms/step - loss: 0.2357 - accuracy: 0.9002 - val_loss: 0.2186 - val_accuracy: 0.9087\n",
      "Epoch 19/100\n",
      "32/32 [==============================] - 2s 72ms/step - loss: 0.2227 - accuracy: 0.9022 - val_loss: 0.2194 - val_accuracy: 0.9132\n",
      "Epoch 20/100\n",
      "32/32 [==============================] - 2s 60ms/step - loss: 0.1982 - accuracy: 0.9100 - val_loss: 0.1934 - val_accuracy: 0.9269\n",
      "Epoch 21/100\n",
      "32/32 [==============================] - 2s 56ms/step - loss: 0.2102 - accuracy: 0.9061 - val_loss: 0.2748 - val_accuracy: 0.8721\n",
      "Epoch 22/100\n",
      "32/32 [==============================] - 2s 64ms/step - loss: 0.2120 - accuracy: 0.9051 - val_loss: 0.1873 - val_accuracy: 0.9178\n",
      "Epoch 23/100\n",
      "32/32 [==============================] - 2s 53ms/step - loss: 0.2072 - accuracy: 0.9061 - val_loss: 0.2047 - val_accuracy: 0.9041\n",
      "Epoch 24/100\n",
      "32/32 [==============================] - 2s 62ms/step - loss: 0.2179 - accuracy: 0.9031 - val_loss: 0.2291 - val_accuracy: 0.9315\n",
      "Epoch 25/100\n",
      "32/32 [==============================] - 2s 73ms/step - loss: 0.2002 - accuracy: 0.9198 - val_loss: 0.2032 - val_accuracy: 0.9269\n",
      "Epoch 26/100\n",
      "32/32 [==============================] - 2s 68ms/step - loss: 0.1825 - accuracy: 0.9256 - val_loss: 0.2372 - val_accuracy: 0.9132\n",
      "Epoch 27/100\n",
      "32/32 [==============================] - 2s 62ms/step - loss: 0.2009 - accuracy: 0.9061 - val_loss: 0.1952 - val_accuracy: 0.9178\n",
      "Epoch 28/100\n",
      "32/32 [==============================] - 2s 64ms/step - loss: 0.2007 - accuracy: 0.9237 - val_loss: 0.2349 - val_accuracy: 0.9132\n",
      "Epoch 29/100\n",
      "32/32 [==============================] - 2s 67ms/step - loss: 0.1832 - accuracy: 0.9286 - val_loss: 0.2170 - val_accuracy: 0.8995\n",
      "Epoch 30/100\n",
      "32/32 [==============================] - 2s 62ms/step - loss: 0.1850 - accuracy: 0.9207 - val_loss: 0.2147 - val_accuracy: 0.9132\n",
      "Epoch 31/100\n",
      "32/32 [==============================] - 2s 67ms/step - loss: 0.2002 - accuracy: 0.9051 - val_loss: 0.2214 - val_accuracy: 0.9132\n",
      "Epoch 32/100\n",
      "32/32 [==============================] - 2s 62ms/step - loss: 0.1954 - accuracy: 0.9100 - val_loss: 0.2146 - val_accuracy: 0.8995\n",
      "Epoch 33/100\n",
      "32/32 [==============================] - 2s 72ms/step - loss: 0.1846 - accuracy: 0.9247 - val_loss: 0.2180 - val_accuracy: 0.9224\n",
      "Epoch 34/100\n",
      "32/32 [==============================] - 2s 58ms/step - loss: 0.1786 - accuracy: 0.9276 - val_loss: 0.3317 - val_accuracy: 0.8767\n",
      "Epoch 35/100\n",
      "32/32 [==============================] - 2s 57ms/step - loss: 0.2075 - accuracy: 0.9129 - val_loss: 0.2955 - val_accuracy: 0.8995\n",
      "Epoch 36/100\n",
      "32/32 [==============================] - 2s 64ms/step - loss: 0.2097 - accuracy: 0.9119 - val_loss: 0.2059 - val_accuracy: 0.9041\n",
      "Epoch 37/100\n",
      "32/32 [==============================] - 2s 64ms/step - loss: 0.1617 - accuracy: 0.9305 - val_loss: 0.2192 - val_accuracy: 0.8995\n",
      "Epoch 38/100\n",
      "32/32 [==============================] - 2s 60ms/step - loss: 0.2183 - accuracy: 0.8845 - val_loss: 0.2280 - val_accuracy: 0.9041\n",
      "Epoch 39/100\n",
      "32/32 [==============================] - 2s 66ms/step - loss: 0.1843 - accuracy: 0.9276 - val_loss: 0.2144 - val_accuracy: 0.9041\n",
      "Epoch 40/100\n",
      "32/32 [==============================] - 2s 61ms/step - loss: 0.1828 - accuracy: 0.9198 - val_loss: 0.2020 - val_accuracy: 0.9087\n",
      "Epoch 41/100\n",
      "32/32 [==============================] - 2s 68ms/step - loss: 0.1756 - accuracy: 0.9227 - val_loss: 0.2601 - val_accuracy: 0.8950\n",
      "Epoch 42/100\n",
      "32/32 [==============================] - 2s 57ms/step - loss: 0.1573 - accuracy: 0.9286 - val_loss: 0.2290 - val_accuracy: 0.9132\n",
      "Epoch 43/100\n",
      "32/32 [==============================] - 2s 58ms/step - loss: 0.1710 - accuracy: 0.9286 - val_loss: 0.2475 - val_accuracy: 0.8904\n",
      "Epoch 44/100\n",
      "32/32 [==============================] - 2s 64ms/step - loss: 0.1861 - accuracy: 0.9227 - val_loss: 0.2909 - val_accuracy: 0.8995\n",
      "Epoch 45/100\n",
      "32/32 [==============================] - 2s 61ms/step - loss: 0.1713 - accuracy: 0.9286 - val_loss: 0.2367 - val_accuracy: 0.9087\n",
      "Epoch 46/100\n",
      "32/32 [==============================] - 2s 65ms/step - loss: 0.1748 - accuracy: 0.9129 - val_loss: 0.2525 - val_accuracy: 0.9178\n",
      "Epoch 47/100\n",
      "32/32 [==============================] - 2s 59ms/step - loss: 0.1608 - accuracy: 0.9207 - val_loss: 0.2579 - val_accuracy: 0.9041\n",
      "Epoch 48/100\n",
      "32/32 [==============================] - 2s 58ms/step - loss: 0.1642 - accuracy: 0.9364 - val_loss: 0.2755 - val_accuracy: 0.9132\n",
      "Epoch 49/100\n",
      "32/32 [==============================] - 2s 68ms/step - loss: 0.1625 - accuracy: 0.9374 - val_loss: 0.2589 - val_accuracy: 0.9087\n",
      "Epoch 50/100\n",
      "32/32 [==============================] - 2s 60ms/step - loss: 0.1616 - accuracy: 0.9305 - val_loss: 0.2353 - val_accuracy: 0.9041\n",
      "Epoch 51/100\n",
      "32/32 [==============================] - 2s 64ms/step - loss: 0.1520 - accuracy: 0.9325 - val_loss: 0.2753 - val_accuracy: 0.9132\n",
      "Epoch 52/100\n",
      "32/32 [==============================] - 2s 62ms/step - loss: 0.1548 - accuracy: 0.9266 - val_loss: 0.2557 - val_accuracy: 0.8995\n",
      "Epoch 53/100\n",
      "32/32 [==============================] - 2s 63ms/step - loss: 0.1490 - accuracy: 0.9364 - val_loss: 0.3181 - val_accuracy: 0.8813\n",
      "Epoch 54/100\n",
      "32/32 [==============================] - 2s 61ms/step - loss: 0.1782 - accuracy: 0.9217 - val_loss: 0.2735 - val_accuracy: 0.8950\n",
      "Epoch 55/100\n",
      "32/32 [==============================] - 2s 59ms/step - loss: 0.1615 - accuracy: 0.9325 - val_loss: 0.3065 - val_accuracy: 0.8995\n",
      "Epoch 56/100\n",
      "32/32 [==============================] - 2s 65ms/step - loss: 0.1569 - accuracy: 0.9305 - val_loss: 0.3404 - val_accuracy: 0.9041\n",
      "Epoch 57/100\n",
      "32/32 [==============================] - 2s 59ms/step - loss: 0.1462 - accuracy: 0.9403 - val_loss: 0.2829 - val_accuracy: 0.8950\n",
      "Epoch 58/100\n",
      "32/32 [==============================] - 2s 67ms/step - loss: 0.1476 - accuracy: 0.9305 - val_loss: 0.3635 - val_accuracy: 0.8904\n",
      "Epoch 59/100\n",
      "32/32 [==============================] - 2s 59ms/step - loss: 0.1515 - accuracy: 0.9364 - val_loss: 0.3031 - val_accuracy: 0.8858\n",
      "Epoch 60/100\n",
      "32/32 [==============================] - 2s 63ms/step - loss: 0.1399 - accuracy: 0.9344 - val_loss: 0.3768 - val_accuracy: 0.8904\n",
      "Epoch 61/100\n",
      "32/32 [==============================] - 2s 62ms/step - loss: 0.1458 - accuracy: 0.9344 - val_loss: 0.3632 - val_accuracy: 0.8995\n",
      "Epoch 62/100\n",
      "32/32 [==============================] - 2s 66ms/step - loss: 0.1536 - accuracy: 0.9354 - val_loss: 0.2918 - val_accuracy: 0.9041\n",
      "Epoch 63/100\n",
      "32/32 [==============================] - 2s 62ms/step - loss: 0.1589 - accuracy: 0.9266 - val_loss: 0.2600 - val_accuracy: 0.8950\n",
      "Epoch 64/100\n",
      "32/32 [==============================] - 2s 59ms/step - loss: 0.1487 - accuracy: 0.9384 - val_loss: 0.2419 - val_accuracy: 0.8950\n",
      "Epoch 65/100\n",
      "32/32 [==============================] - 2s 62ms/step - loss: 0.1417 - accuracy: 0.9442 - val_loss: 0.2659 - val_accuracy: 0.9041\n",
      "Epoch 66/100\n",
      "32/32 [==============================] - 2s 65ms/step - loss: 0.1392 - accuracy: 0.9344 - val_loss: 0.3502 - val_accuracy: 0.8995\n",
      "Epoch 67/100\n",
      "32/32 [==============================] - 2s 64ms/step - loss: 0.1714 - accuracy: 0.9276 - val_loss: 0.3067 - val_accuracy: 0.8767\n",
      "Epoch 68/100\n",
      "32/32 [==============================] - 2s 58ms/step - loss: 0.1389 - accuracy: 0.9452 - val_loss: 0.2508 - val_accuracy: 0.9041\n",
      "Epoch 69/100\n",
      "32/32 [==============================] - 2s 66ms/step - loss: 0.1323 - accuracy: 0.9442 - val_loss: 0.3042 - val_accuracy: 0.8904\n",
      "Epoch 70/100\n",
      "32/32 [==============================] - 2s 60ms/step - loss: 0.1313 - accuracy: 0.9462 - val_loss: 0.3725 - val_accuracy: 0.8995\n",
      "Epoch 71/100\n",
      "32/32 [==============================] - 2s 65ms/step - loss: 0.1322 - accuracy: 0.9393 - val_loss: 0.3416 - val_accuracy: 0.8950\n",
      "Epoch 72/100\n",
      "32/32 [==============================] - 2s 61ms/step - loss: 0.1343 - accuracy: 0.9432 - val_loss: 0.3418 - val_accuracy: 0.9041\n",
      "Epoch 73/100\n",
      "32/32 [==============================] - 2s 71ms/step - loss: 0.1440 - accuracy: 0.9423 - val_loss: 0.4230 - val_accuracy: 0.8813\n",
      "Epoch 74/100\n",
      "32/32 [==============================] - 2s 73ms/step - loss: 0.1335 - accuracy: 0.9384 - val_loss: 0.3539 - val_accuracy: 0.9041\n",
      "Epoch 75/100\n",
      "32/32 [==============================] - 2s 69ms/step - loss: 0.1393 - accuracy: 0.9413 - val_loss: 0.3188 - val_accuracy: 0.8995\n",
      "Epoch 76/100\n",
      "32/32 [==============================] - 2s 62ms/step - loss: 0.1292 - accuracy: 0.9413 - val_loss: 0.3981 - val_accuracy: 0.8995\n",
      "Epoch 77/100\n",
      "32/32 [==============================] - 2s 66ms/step - loss: 0.1629 - accuracy: 0.9403 - val_loss: 0.3298 - val_accuracy: 0.9132\n",
      "Epoch 78/100\n",
      "32/32 [==============================] - 2s 70ms/step - loss: 0.1597 - accuracy: 0.9364 - val_loss: 0.2725 - val_accuracy: 0.8950\n",
      "Epoch 79/100\n",
      "32/32 [==============================] - 2s 69ms/step - loss: 0.1242 - accuracy: 0.9472 - val_loss: 0.4290 - val_accuracy: 0.9041\n",
      "Epoch 80/100\n",
      "32/32 [==============================] - 2s 64ms/step - loss: 0.1274 - accuracy: 0.9442 - val_loss: 0.3433 - val_accuracy: 0.9132\n",
      "Epoch 81/100\n",
      "32/32 [==============================] - 2s 65ms/step - loss: 0.1233 - accuracy: 0.9442 - val_loss: 0.3369 - val_accuracy: 0.8995\n",
      "Epoch 82/100\n",
      "32/32 [==============================] - 2s 60ms/step - loss: 0.1108 - accuracy: 0.9560 - val_loss: 0.4378 - val_accuracy: 0.8995\n",
      "Epoch 83/100\n",
      "32/32 [==============================] - 2s 69ms/step - loss: 0.1172 - accuracy: 0.9491 - val_loss: 0.3585 - val_accuracy: 0.8995\n",
      "Epoch 84/100\n",
      "32/32 [==============================] - 2s 60ms/step - loss: 0.1419 - accuracy: 0.9403 - val_loss: 0.2994 - val_accuracy: 0.9087\n",
      "Epoch 85/100\n",
      "32/32 [==============================] - 2s 64ms/step - loss: 0.1102 - accuracy: 0.9481 - val_loss: 0.3688 - val_accuracy: 0.8995\n",
      "Epoch 86/100\n",
      "32/32 [==============================] - 2s 60ms/step - loss: 0.1207 - accuracy: 0.9501 - val_loss: 0.4277 - val_accuracy: 0.8995\n",
      "Epoch 87/100\n",
      "32/32 [==============================] - 2s 68ms/step - loss: 0.1150 - accuracy: 0.9540 - val_loss: 0.4075 - val_accuracy: 0.8950\n",
      "Epoch 88/100\n",
      "32/32 [==============================] - 2s 55ms/step - loss: 0.1153 - accuracy: 0.9560 - val_loss: 0.3866 - val_accuracy: 0.8767\n",
      "Epoch 89/100\n",
      "32/32 [==============================] - 2s 59ms/step - loss: 0.1522 - accuracy: 0.9325 - val_loss: 0.3208 - val_accuracy: 0.8995\n",
      "Epoch 90/100\n",
      "32/32 [==============================] - 2s 62ms/step - loss: 0.1389 - accuracy: 0.9462 - val_loss: 0.2713 - val_accuracy: 0.9087\n",
      "Epoch 91/100\n",
      "32/32 [==============================] - 2s 57ms/step - loss: 0.1189 - accuracy: 0.9560 - val_loss: 0.3449 - val_accuracy: 0.9041\n",
      "Epoch 92/100\n",
      "32/32 [==============================] - 2s 69ms/step - loss: 0.1123 - accuracy: 0.9569 - val_loss: 0.4408 - val_accuracy: 0.8858\n",
      "Epoch 93/100\n",
      "32/32 [==============================] - 2s 59ms/step - loss: 0.1475 - accuracy: 0.9393 - val_loss: 0.2488 - val_accuracy: 0.8995\n",
      "Epoch 94/100\n",
      "32/32 [==============================] - 2s 66ms/step - loss: 0.1458 - accuracy: 0.9413 - val_loss: 0.3185 - val_accuracy: 0.9087\n",
      "Epoch 95/100\n",
      "32/32 [==============================] - 2s 58ms/step - loss: 0.1430 - accuracy: 0.9403 - val_loss: 0.2702 - val_accuracy: 0.9132\n",
      "Epoch 96/100\n",
      "32/32 [==============================] - 2s 69ms/step - loss: 0.1104 - accuracy: 0.9569 - val_loss: 0.3424 - val_accuracy: 0.9041\n",
      "Epoch 97/100\n",
      "32/32 [==============================] - 2s 56ms/step - loss: 0.0900 - accuracy: 0.9687 - val_loss: 0.3376 - val_accuracy: 0.9224\n",
      "Epoch 98/100\n",
      "32/32 [==============================] - 2s 61ms/step - loss: 0.1102 - accuracy: 0.9569 - val_loss: 0.3311 - val_accuracy: 0.8950\n",
      "Epoch 99/100\n",
      "32/32 [==============================] - 2s 58ms/step - loss: 0.1659 - accuracy: 0.9207 - val_loss: 0.2958 - val_accuracy: 0.9041\n",
      "Epoch 100/100\n",
      "32/32 [==============================] - 2s 57ms/step - loss: 0.1100 - accuracy: 0.9530 - val_loss: 0.3317 - val_accuracy: 0.8950\n"
     ]
    }
   ],
   "source": [
    "model_2 = Sequential([\n",
    "    Dense(1000, activation='relu', input_shape=(10,)),\n",
    "    Dense(1000, activation='relu'),\n",
    "    Dense(1000, activation='relu'),\n",
    "    Dense(1000, activation='relu'),\n",
    "    Dense(1, activation='sigmoid'),\n",
    "])\n",
    "model_2.compile(optimizer='adam',\n",
    "              loss='binary_crossentropy',\n",
    "              metrics=['accuracy'])\n",
    "hist_2 = model_2.fit(X_train, Y_train,\n",
    "          batch_size=32, epochs=100,\n",
    "          validation_data=(X_val, Y_val))"
   ]
  },
  {
   "cell_type": "markdown",
   "metadata": {},
   "source": [
    "Here, we’ve made a much larger model and we’ve use the Adam optimizer. Adam is one of the most common optimizers we use, which adds some tweaks to stochastic gradient descent such that it reaches the lower loss function faster. If we run this code and plot the loss graphs for hist_2 using the code below (note that the code is the same except that we use ‘hist_2’ instead of ‘hist’):"
   ]
  },
  {
   "cell_type": "markdown",
   "metadata": {},
   "source": [
    "Let's do the same visualization to see what overfitting looks like in terms of the loss and accuracy."
   ]
  },
  {
   "cell_type": "code",
   "execution_count": 27,
   "metadata": {},
   "outputs": [
    {
     "data": {
      "image/png": "[encoded data removed]",
      "text/plain": [
       "<Figure size 432x288 with 1 Axes>"
      ]
     },
     "metadata": {
      "needs_background": "light"
     },
     "output_type": "display_data"
    }
   ],
   "source": [
    "plt.plot(hist_2.history['loss'])\n",
    "plt.plot(hist_2.history['val_loss'])\n",
    "plt.title('Model loss')\n",
    "plt.ylabel('Loss')\n",
    "plt.xlabel('Epoch')\n",
    "plt.legend(['Train', 'Val'], loc='upper right')\n",
    "plt.show()"
   ]
  },
  {
   "cell_type": "code",
   "execution_count": 29,
   "metadata": {},
   "outputs": [
    {
     "data": {
      "image/png": "[encoded data removed]",
      "text/plain": [
       "<Figure size 432x288 with 1 Axes>"
      ]
     },
     "metadata": {
      "needs_background": "light"
     },
     "output_type": "display_data"
    }
   ],
   "source": [
    "plt.plot(hist_2.history['accuracy'])\n",
    "plt.plot(hist_2.history['val_accuracy'])\n",
    "plt.title('Model accuracy')\n",
    "plt.ylabel('Accuracy')\n",
    "plt.xlabel('Epoch')\n",
    "plt.legend(['Train', 'Val'], loc='lower right')\n",
    "plt.show()"
   ]
  },
  {
   "cell_type": "markdown",
   "metadata": {},
   "source": [
    "Now, let’s try out some of our strategies to reduce over-fitting (apart from changing our architecture back to our first model)."
   ]
  },
  {
   "cell_type": "markdown",
   "metadata": {},
   "source": [
    "we’ll incorporate L2 regularization and dropout here. The reason we don’t add early stopping here is because after we’ve used the first two strategies, the validation loss doesn’t take the U-shape we see above and so early stopping will not be as effective."
   ]
  },
  {
   "cell_type": "code",
   "execution_count": 1,
   "metadata": {},
   "outputs": [],
   "source": [
    "from tensorflow.python.keras.layers import Dropout\n",
    "from tensorflow.python.keras import regularizers"
   ]
  },
  {
   "cell_type": "code",
   "execution_count": 31,
   "metadata": {},
   "outputs": [],
   "source": [
    "model_3 = Sequential([\n",
    "    Dense(1000, activation='relu', kernel_regularizer=regularizers.l2(0.01), input_shape=(10,)),\n",
    "    Dropout(0.3),\n",
    "    Dense(1000, activation='relu', kernel_regularizer=regularizers.l2(0.01)),\n",
    "    Dropout(0.3),\n",
    "    Dense(1000, activation='relu', kernel_regularizer=regularizers.l2(0.01)),\n",
    "    Dropout(0.3),\n",
    "    Dense(1000, activation='relu', kernel_regularizer=regularizers.l2(0.01)),\n",
    "    Dropout(0.3),\n",
    "    Dense(1, activation='sigmoid', kernel_regularizer=regularizers.l2(0.01)),\n",
    "])"
   ]
  },
  {
   "cell_type": "code",
   "execution_count": 32,
   "metadata": {},
   "outputs": [
    {
     "name": "stdout",
     "output_type": "stream",
     "text": [
      "Epoch 1/100\n",
      "32/32 [==============================] - 6s 111ms/step - loss: 14.2502 - accuracy: 0.6683 - val_loss: 3.8698 - val_accuracy: 0.8037\n",
      "Epoch 2/100\n",
      "32/32 [==============================] - 3s 84ms/step - loss: 1.6753 - accuracy: 0.8503 - val_loss: 0.7018 - val_accuracy: 0.8356\n",
      "Epoch 3/100\n",
      "32/32 [==============================] - 2s 74ms/step - loss: 0.5750 - accuracy: 0.8523 - val_loss: 0.5112 - val_accuracy: 0.8402\n",
      "Epoch 4/100\n",
      "32/32 [==============================] - 2s 76ms/step - loss: 0.5021 - accuracy: 0.8816 - val_loss: 0.4578 - val_accuracy: 0.9041\n",
      "Epoch 5/100\n",
      "32/32 [==============================] - 2s 75ms/step - loss: 0.5166 - accuracy: 0.8581 - val_loss: 0.4875 - val_accuracy: 0.9224\n",
      "Epoch 6/100\n",
      "32/32 [==============================] - 3s 81ms/step - loss: 0.5037 - accuracy: 0.8581 - val_loss: 0.4398 - val_accuracy: 0.8950\n",
      "Epoch 7/100\n",
      "32/32 [==============================] - 2s 74ms/step - loss: 0.4764 - accuracy: 0.8728 - val_loss: 0.4382 - val_accuracy: 0.8676\n",
      "Epoch 8/100\n",
      "32/32 [==============================] - 3s 82ms/step - loss: 0.4812 - accuracy: 0.8611 - val_loss: 0.4738 - val_accuracy: 0.8356\n",
      "Epoch 9/100\n",
      "32/32 [==============================] - 2s 76ms/step - loss: 0.4800 - accuracy: 0.8659 - val_loss: 0.4741 - val_accuracy: 0.8311\n",
      "Epoch 10/100\n",
      "32/32 [==============================] - 3s 80ms/step - loss: 0.4723 - accuracy: 0.8620 - val_loss: 0.5180 - val_accuracy: 0.8402\n",
      "Epoch 11/100\n",
      "32/32 [==============================] - 3s 88ms/step - loss: 0.4906 - accuracy: 0.8611 - val_loss: 0.4413 - val_accuracy: 0.9224\n",
      "Epoch 12/100\n",
      "32/32 [==============================] - 2s 75ms/step - loss: 0.4675 - accuracy: 0.8708 - val_loss: 0.4334 - val_accuracy: 0.8676\n",
      "Epoch 13/100\n",
      "32/32 [==============================] - 3s 84ms/step - loss: 0.4911 - accuracy: 0.8777 - val_loss: 0.4205 - val_accuracy: 0.9041\n",
      "Epoch 14/100\n",
      "32/32 [==============================] - 2s 71ms/step - loss: 0.4483 - accuracy: 0.8806 - val_loss: 0.4356 - val_accuracy: 0.8493\n",
      "Epoch 15/100\n",
      "32/32 [==============================] - 2s 71ms/step - loss: 0.4532 - accuracy: 0.8728 - val_loss: 0.4053 - val_accuracy: 0.8995\n",
      "Epoch 16/100\n",
      "32/32 [==============================] - 3s 98ms/step - loss: 0.4530 - accuracy: 0.8777 - val_loss: 0.4422 - val_accuracy: 0.8539\n",
      "Epoch 17/100\n",
      "32/32 [==============================] - 3s 79ms/step - loss: 0.4642 - accuracy: 0.8630 - val_loss: 0.4124 - val_accuracy: 0.8950\n",
      "Epoch 18/100\n",
      "32/32 [==============================] - 3s 83ms/step - loss: 0.4585 - accuracy: 0.8767 - val_loss: 0.4125 - val_accuracy: 0.8767\n",
      "Epoch 19/100\n",
      "32/32 [==============================] - 3s 85ms/step - loss: 0.4424 - accuracy: 0.8748 - val_loss: 0.4025 - val_accuracy: 0.9087\n",
      "Epoch 20/100\n",
      "32/32 [==============================] - 3s 83ms/step - loss: 0.4529 - accuracy: 0.8894 - val_loss: 0.4164 - val_accuracy: 0.8767\n",
      "Epoch 21/100\n",
      "32/32 [==============================] - 2s 77ms/step - loss: 0.4439 - accuracy: 0.8914 - val_loss: 0.4027 - val_accuracy: 0.9178\n",
      "Epoch 22/100\n",
      "32/32 [==============================] - 2s 72ms/step - loss: 0.4511 - accuracy: 0.8767 - val_loss: 0.4178 - val_accuracy: 0.8630\n",
      "Epoch 23/100\n",
      "32/32 [==============================] - 2s 72ms/step - loss: 0.4640 - accuracy: 0.8748 - val_loss: 0.4147 - val_accuracy: 0.9178\n",
      "Epoch 24/100\n",
      "32/32 [==============================] - 3s 92ms/step - loss: 0.4490 - accuracy: 0.8865 - val_loss: 0.4242 - val_accuracy: 0.8584\n",
      "Epoch 25/100\n",
      "32/32 [==============================] - 3s 93ms/step - loss: 0.4654 - accuracy: 0.8718 - val_loss: 0.4867 - val_accuracy: 0.8584\n",
      "Epoch 26/100\n",
      "32/32 [==============================] - 3s 101ms/step - loss: 0.4618 - accuracy: 0.8630 - val_loss: 0.4067 - val_accuracy: 0.9224\n",
      "Epoch 27/100\n",
      "32/32 [==============================] - 3s 86ms/step - loss: 0.4504 - accuracy: 0.8728 - val_loss: 0.4102 - val_accuracy: 0.8767\n",
      "Epoch 28/100\n",
      "32/32 [==============================] - 2s 78ms/step - loss: 0.4374 - accuracy: 0.8845 - val_loss: 0.3961 - val_accuracy: 0.8995\n",
      "Epoch 29/100\n",
      "32/32 [==============================] - 3s 82ms/step - loss: 0.4460 - accuracy: 0.8777 - val_loss: 0.4004 - val_accuracy: 0.9178\n",
      "Epoch 30/100\n",
      "32/32 [==============================] - 3s 80ms/step - loss: 0.4480 - accuracy: 0.8757 - val_loss: 0.4078 - val_accuracy: 0.8813\n",
      "Epoch 31/100\n",
      "32/32 [==============================] - 4s 119ms/step - loss: 0.4517 - accuracy: 0.8699 - val_loss: 0.4370 - val_accuracy: 0.8493\n",
      "Epoch 32/100\n",
      "32/32 [==============================] - 3s 100ms/step - loss: 0.4503 - accuracy: 0.8777 - val_loss: 0.4004 - val_accuracy: 0.8904\n",
      "Epoch 33/100\n",
      "32/32 [==============================] - 3s 84ms/step - loss: 0.4387 - accuracy: 0.8787 - val_loss: 0.4200 - val_accuracy: 0.8630\n",
      "Epoch 34/100\n",
      "32/32 [==============================] - 2s 74ms/step - loss: 0.4721 - accuracy: 0.8708 - val_loss: 0.4027 - val_accuracy: 0.8995\n",
      "Epoch 35/100\n",
      "32/32 [==============================] - 2s 77ms/step - loss: 0.4562 - accuracy: 0.8757 - val_loss: 0.4374 - val_accuracy: 0.9132\n",
      "Epoch 36/100\n",
      "32/32 [==============================] - 2s 73ms/step - loss: 0.4405 - accuracy: 0.8865 - val_loss: 0.4068 - val_accuracy: 0.8904\n",
      "Epoch 37/100\n",
      "32/32 [==============================] - 3s 96ms/step - loss: 0.4263 - accuracy: 0.8816 - val_loss: 0.3946 - val_accuracy: 0.8995\n",
      "Epoch 38/100\n",
      "32/32 [==============================] - 2s 72ms/step - loss: 0.4436 - accuracy: 0.8718 - val_loss: 0.3978 - val_accuracy: 0.8858\n",
      "Epoch 39/100\n",
      "32/32 [==============================] - 3s 80ms/step - loss: 0.4387 - accuracy: 0.8845 - val_loss: 0.4075 - val_accuracy: 0.8813\n",
      "Epoch 40/100\n",
      "32/32 [==============================] - 2s 76ms/step - loss: 0.4379 - accuracy: 0.8845 - val_loss: 0.3967 - val_accuracy: 0.8904\n",
      "Epoch 41/100\n",
      "32/32 [==============================] - 2s 76ms/step - loss: 0.4481 - accuracy: 0.8669 - val_loss: 0.3957 - val_accuracy: 0.9041\n",
      "Epoch 42/100\n",
      "32/32 [==============================] - 2s 77ms/step - loss: 0.4371 - accuracy: 0.8767 - val_loss: 0.4168 - val_accuracy: 0.8584\n",
      "Epoch 43/100\n",
      "32/32 [==============================] - 3s 88ms/step - loss: 0.4454 - accuracy: 0.8787 - val_loss: 0.3993 - val_accuracy: 0.9041\n",
      "Epoch 44/100\n",
      "32/32 [==============================] - 2s 73ms/step - loss: 0.4733 - accuracy: 0.8620 - val_loss: 0.4139 - val_accuracy: 0.9178\n",
      "Epoch 45/100\n",
      "32/32 [==============================] - 3s 107ms/step - loss: 0.4475 - accuracy: 0.8708 - val_loss: 0.3943 - val_accuracy: 0.9087\n",
      "Epoch 46/100\n",
      "32/32 [==============================] - 2s 71ms/step - loss: 0.4476 - accuracy: 0.8787 - val_loss: 0.3928 - val_accuracy: 0.9087\n",
      "Epoch 47/100\n",
      "32/32 [==============================] - 2s 71ms/step - loss: 0.4358 - accuracy: 0.8767 - val_loss: 0.4066 - val_accuracy: 0.9224\n",
      "Epoch 48/100\n",
      "32/32 [==============================] - 3s 83ms/step - loss: 0.4333 - accuracy: 0.8845 - val_loss: 0.3954 - val_accuracy: 0.9132\n",
      "Epoch 49/100\n",
      "32/32 [==============================] - 3s 92ms/step - loss: 0.4336 - accuracy: 0.8806 - val_loss: 0.4186 - val_accuracy: 0.8493\n",
      "Epoch 50/100\n",
      "32/32 [==============================] - 3s 77ms/step - loss: 0.4293 - accuracy: 0.8816 - val_loss: 0.3885 - val_accuracy: 0.9041\n",
      "Epoch 51/100\n",
      "32/32 [==============================] - 2s 78ms/step - loss: 0.4329 - accuracy: 0.8933 - val_loss: 0.4242 - val_accuracy: 0.9178\n",
      "Epoch 52/100\n",
      "32/32 [==============================] - 3s 79ms/step - loss: 0.4512 - accuracy: 0.8767 - val_loss: 0.3922 - val_accuracy: 0.9041\n",
      "Epoch 53/100\n",
      "32/32 [==============================] - 2s 76ms/step - loss: 0.4319 - accuracy: 0.8767 - val_loss: 0.3958 - val_accuracy: 0.8813\n",
      "Epoch 54/100\n",
      "32/32 [==============================] - 3s 86ms/step - loss: 0.4235 - accuracy: 0.8855 - val_loss: 0.3917 - val_accuracy: 0.9087\n",
      "Epoch 55/100\n",
      "32/32 [==============================] - 2s 70ms/step - loss: 0.4384 - accuracy: 0.8757 - val_loss: 0.3888 - val_accuracy: 0.9132\n",
      "Epoch 56/100\n",
      "32/32 [==============================] - 3s 83ms/step - loss: 0.4297 - accuracy: 0.8796 - val_loss: 0.3883 - val_accuracy: 0.9132\n",
      "Epoch 57/100\n",
      "32/32 [==============================] - 2s 71ms/step - loss: 0.4471 - accuracy: 0.8640 - val_loss: 0.3913 - val_accuracy: 0.9087\n",
      "Epoch 58/100\n",
      "32/32 [==============================] - 2s 76ms/step - loss: 0.4279 - accuracy: 0.8875 - val_loss: 0.3910 - val_accuracy: 0.8950\n",
      "Epoch 59/100\n",
      "32/32 [==============================] - 3s 80ms/step - loss: 0.4471 - accuracy: 0.8777 - val_loss: 0.3931 - val_accuracy: 0.9087\n",
      "Epoch 60/100\n",
      "32/32 [==============================] - 2s 77ms/step - loss: 0.4304 - accuracy: 0.8845 - val_loss: 0.4061 - val_accuracy: 0.8676\n",
      "Epoch 61/100\n",
      "32/32 [==============================] - 2s 75ms/step - loss: 0.4411 - accuracy: 0.8659 - val_loss: 0.3962 - val_accuracy: 0.8950\n",
      "Epoch 62/100\n",
      "32/32 [==============================] - 3s 81ms/step - loss: 0.4353 - accuracy: 0.8796 - val_loss: 0.3935 - val_accuracy: 0.9132\n",
      "Epoch 63/100\n",
      "32/32 [==============================] - 2s 77ms/step - loss: 0.4356 - accuracy: 0.8826 - val_loss: 0.3898 - val_accuracy: 0.9041\n",
      "Epoch 64/100\n",
      "32/32 [==============================] - 3s 80ms/step - loss: 0.4320 - accuracy: 0.8885 - val_loss: 0.4107 - val_accuracy: 0.9269\n",
      "Epoch 65/100\n",
      "32/32 [==============================] - 2s 76ms/step - loss: 0.4427 - accuracy: 0.8708 - val_loss: 0.4442 - val_accuracy: 0.9041\n",
      "Epoch 66/100\n",
      "32/32 [==============================] - 3s 79ms/step - loss: 0.4538 - accuracy: 0.8708 - val_loss: 0.3917 - val_accuracy: 0.9041\n",
      "Epoch 67/100\n",
      "32/32 [==============================] - 2s 76ms/step - loss: 0.4288 - accuracy: 0.8806 - val_loss: 0.3952 - val_accuracy: 0.8950\n",
      "Epoch 68/100\n",
      "32/32 [==============================] - 3s 85ms/step - loss: 0.4360 - accuracy: 0.8806 - val_loss: 0.4150 - val_accuracy: 0.9224\n",
      "Epoch 69/100\n",
      "32/32 [==============================] - 2s 75ms/step - loss: 0.4434 - accuracy: 0.8855 - val_loss: 0.4621 - val_accuracy: 0.8539\n",
      "Epoch 70/100\n",
      "32/32 [==============================] - 3s 79ms/step - loss: 0.4525 - accuracy: 0.8689 - val_loss: 0.4143 - val_accuracy: 0.8767\n",
      "Epoch 71/100\n",
      "32/32 [==============================] - 2s 76ms/step - loss: 0.4444 - accuracy: 0.8708 - val_loss: 0.4251 - val_accuracy: 0.8539\n",
      "Epoch 72/100\n",
      "32/32 [==============================] - 3s 88ms/step - loss: 0.4333 - accuracy: 0.8699 - val_loss: 0.4078 - val_accuracy: 0.9178\n",
      "Epoch 73/100\n",
      "32/32 [==============================] - 2s 73ms/step - loss: 0.4463 - accuracy: 0.8748 - val_loss: 0.3962 - val_accuracy: 0.9224\n",
      "Epoch 74/100\n",
      "32/32 [==============================] - 3s 80ms/step - loss: 0.4383 - accuracy: 0.8796 - val_loss: 0.3986 - val_accuracy: 0.9132\n",
      "Epoch 75/100\n",
      "32/32 [==============================] - 3s 80ms/step - loss: 0.4404 - accuracy: 0.8757 - val_loss: 0.3932 - val_accuracy: 0.8904\n",
      "Epoch 76/100\n",
      "32/32 [==============================] - 3s 82ms/step - loss: 0.4317 - accuracy: 0.8748 - val_loss: 0.3991 - val_accuracy: 0.8858\n",
      "Epoch 77/100\n",
      "32/32 [==============================] - 3s 79ms/step - loss: 0.4458 - accuracy: 0.8708 - val_loss: 0.4051 - val_accuracy: 0.8813\n",
      "Epoch 78/100\n",
      "32/32 [==============================] - 2s 78ms/step - loss: 0.4233 - accuracy: 0.8787 - val_loss: 0.3871 - val_accuracy: 0.8995\n",
      "Epoch 79/100\n",
      "32/32 [==============================] - 3s 81ms/step - loss: 0.4284 - accuracy: 0.8718 - val_loss: 0.4057 - val_accuracy: 0.8676\n",
      "Epoch 80/100\n",
      "32/32 [==============================] - 3s 80ms/step - loss: 0.4374 - accuracy: 0.8748 - val_loss: 0.4171 - val_accuracy: 0.8630\n",
      "Epoch 81/100\n",
      "32/32 [==============================] - 3s 79ms/step - loss: 0.4296 - accuracy: 0.8777 - val_loss: 0.4118 - val_accuracy: 0.9269\n",
      "Epoch 82/100\n",
      "32/32 [==============================] - 2s 73ms/step - loss: 0.4489 - accuracy: 0.8728 - val_loss: 0.3926 - val_accuracy: 0.9087\n",
      "Epoch 83/100\n",
      "32/32 [==============================] - 3s 80ms/step - loss: 0.4540 - accuracy: 0.8748 - val_loss: 0.4510 - val_accuracy: 0.9041\n",
      "Epoch 84/100\n",
      "32/32 [==============================] - 3s 83ms/step - loss: 0.4395 - accuracy: 0.8767 - val_loss: 0.3955 - val_accuracy: 0.9224\n",
      "Epoch 85/100\n",
      "32/32 [==============================] - 3s 85ms/step - loss: 0.4364 - accuracy: 0.8748 - val_loss: 0.3918 - val_accuracy: 0.8904\n",
      "Epoch 86/100\n",
      "32/32 [==============================] - 3s 84ms/step - loss: 0.4286 - accuracy: 0.8914 - val_loss: 0.3875 - val_accuracy: 0.9087\n",
      "Epoch 87/100\n",
      "32/32 [==============================] - 3s 82ms/step - loss: 0.4341 - accuracy: 0.8738 - val_loss: 0.3909 - val_accuracy: 0.9087\n",
      "Epoch 88/100\n",
      "32/32 [==============================] - 3s 82ms/step - loss: 0.4373 - accuracy: 0.8836 - val_loss: 0.3909 - val_accuracy: 0.8995\n",
      "Epoch 89/100\n",
      "32/32 [==============================] - 3s 79ms/step - loss: 0.4472 - accuracy: 0.8748 - val_loss: 0.3889 - val_accuracy: 0.9041\n",
      "Epoch 90/100\n",
      "32/32 [==============================] - 2s 77ms/step - loss: 0.4513 - accuracy: 0.8650 - val_loss: 0.4238 - val_accuracy: 0.9178\n",
      "Epoch 91/100\n",
      "32/32 [==============================] - 3s 80ms/step - loss: 0.4276 - accuracy: 0.8796 - val_loss: 0.4034 - val_accuracy: 0.9269\n",
      "Epoch 92/100\n",
      "32/32 [==============================] - 3s 79ms/step - loss: 0.4429 - accuracy: 0.8708 - val_loss: 0.4089 - val_accuracy: 0.9269\n",
      "Epoch 93/100\n",
      "32/32 [==============================] - 2s 78ms/step - loss: 0.4392 - accuracy: 0.8777 - val_loss: 0.3956 - val_accuracy: 0.9132\n",
      "Epoch 94/100\n",
      "32/32 [==============================] - 2s 72ms/step - loss: 0.4303 - accuracy: 0.8816 - val_loss: 0.3880 - val_accuracy: 0.9041\n",
      "Epoch 95/100\n",
      "32/32 [==============================] - 2s 76ms/step - loss: 0.4275 - accuracy: 0.8757 - val_loss: 0.3876 - val_accuracy: 0.9041\n",
      "Epoch 96/100\n",
      "32/32 [==============================] - 3s 85ms/step - loss: 0.4289 - accuracy: 0.8767 - val_loss: 0.3914 - val_accuracy: 0.8950\n",
      "Epoch 97/100\n",
      "32/32 [==============================] - 2s 75ms/step - loss: 0.4310 - accuracy: 0.8777 - val_loss: 0.3845 - val_accuracy: 0.9041\n",
      "Epoch 98/100\n",
      "32/32 [==============================] - 3s 83ms/step - loss: 0.4341 - accuracy: 0.8777 - val_loss: 0.3876 - val_accuracy: 0.9132\n",
      "Epoch 99/100\n",
      "32/32 [==============================] - 3s 81ms/step - loss: 0.4259 - accuracy: 0.8767 - val_loss: 0.3998 - val_accuracy: 0.8858\n",
      "Epoch 100/100\n",
      "32/32 [==============================] - 3s 87ms/step - loss: 0.4314 - accuracy: 0.8826 - val_loss: 0.3996 - val_accuracy: 0.8904\n"
     ]
    }
   ],
   "source": [
    "model_3.compile(optimizer='adam',\n",
    "              loss='binary_crossentropy',\n",
    "              metrics=['accuracy'])\n",
    "hist_3 = model_3.fit(X_train, Y_train,\n",
    "          batch_size=32, epochs=100,\n",
    "          validation_data=(X_val, Y_val))"
   ]
  },
  {
   "cell_type": "markdown",
   "metadata": {},
   "source": [
    "Can you spot the differences between Model 3 and Model 2? There are two main differences:\n",
    "\n",
    "**Difference 1:** To add L2 regularization, notice that we’ve added a bit of extra code in each of our dense layers like this:\n",
    "\n",
    "kernel_regularizer=regularizers.l2(0.01)\n",
    "\n",
    "This tells Keras to include the squared values of those parameters in our overall loss function, and weight them by 0.01 in the loss function.\n",
    "\n",
    "**Difference 2:** To add Dropout, we added a new layer like this:\n",
    "\n",
    "Dropout(0.3),\n",
    "\n",
    "This means that the neurons in the previous layer has a probability of 0.3 in dropping out during training. Let’s compile it and run it with the same parameters as our Model 2 (the overfitting one):"
   ]
  },
  {
   "cell_type": "markdown",
   "metadata": {},
   "source": [
    "We'll now plot the loss and accuracy graphs for Model 3. You'll notice that the loss is a lot higher at the start, and that's because we've changed our loss function. To plot such that the window is zoomed in between 0 and 1.2 for the loss, we add an additional line of code (plt.ylim) when plotting"
   ]
  },
  {
   "cell_type": "code",
   "execution_count": 33,
   "metadata": {},
   "outputs": [
    {
     "data": {
      "image/png": "[encoded data removed]",
      "text/plain": [
       "<Figure size 432x288 with 1 Axes>"
      ]
     },
     "metadata": {
      "needs_background": "light"
     },
     "output_type": "display_data"
    }
   ],
   "source": [
    "plt.plot(hist_3.history['loss'])\n",
    "plt.plot(hist_3.history['val_loss'])\n",
    "plt.title('Model loss')\n",
    "plt.ylabel('Loss')\n",
    "plt.xlabel('Epoch')\n",
    "plt.legend(['Train', 'Val'], loc='upper right')\n",
    "plt.ylim(top=1.2, bottom=0)\n",
    "plt.show()"
   ]
  },
  {
   "cell_type": "code",
   "execution_count": 34,
   "metadata": {},
   "outputs": [
    {
     "data": {
      "image/png": "[encoded data removed]",
      "text/plain": [
       "<Figure size 432x288 with 1 Axes>"
      ]
     },
     "metadata": {
      "needs_background": "light"
     },
     "output_type": "display_data"
    }
   ],
   "source": [
    "plt.plot(hist_3.history['accuracy'])\n",
    "plt.plot(hist_3.history['val_accuracy'])\n",
    "plt.title('Model accuracy')\n",
    "plt.ylabel('Accuracy')\n",
    "plt.xlabel('Epoch')\n",
    "plt.legend(['Train', 'Val'], loc='lower right')\n",
    "plt.show()"
   ]
  },
  {
   "cell_type": "markdown",
   "metadata": {},
   "source": [
    "Compared to our model in Model 2, we’ve reduced overfitting substantially! And that’s how we apply our regularization techniques to reduce overfitting to the training set.\n",
    "\n",
    "**Summary:** To deal with overfitting, we can code in the following strategies into our model each with about one line of code:\n",
    "\n",
    "* L2 Regularization\n",
    "* Dropout"
   ]
  },
  {
   "cell_type": "markdown",
   "metadata": {},
   "source": [
    "---\n",
    "\n",
    "\n",
    "\n",
    "\n",
    "*Have questions or comments? Feel free to reach out to me (S.Lamchoudi@aui.ma).*"
   ]
  },
  {
   "cell_type": "code",
   "execution_count": null,
   "metadata": {},
   "outputs": [],
   "source": []
  }
 ],
 "metadata": {
  "kernelspec": {
   "display_name": "Python 3",
   "language": "python",
   "name": "python3"
  },
  "language_info": {
   "codemirror_mode": {
    "name": "ipython",
    "version": 3
   },
   "file_extension": ".py",
   "mimetype": "text/x-python",
   "name": "python",
   "nbconvert_exporter": "python",
   "pygments_lexer": "ipython3",
   "version": "3.10.0"
  },
  "orig_nbformat": 4
 },
 "nbformat": 4,
 "nbformat_minor": 2
}
