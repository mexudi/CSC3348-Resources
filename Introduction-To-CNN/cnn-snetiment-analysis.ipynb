{
 "cells": [
  {
   "cell_type": "markdown",
   "metadata": {},
   "source": [
    "we are going to do text classification on IMDB data-set using Convolutional Neural Networks(CNN). \n",
    "\n",
    "We will go through the basics of Convolutional Neural Networks and how it can be used with text for classification."
   ]
  },
  {
   "cell_type": "markdown",
   "metadata": {},
   "source": [
    "* Basics of Convolutional Neural Networks\n",
    "* How to use CNN for text classification?\n",
    "* Code Demonstration"
   ]
  },
  {
   "cell_type": "markdown",
   "metadata": {},
   "source": [
    "Let’s first understand the term neural networks. \n",
    "\n",
    "In a neural network, where neurons are fed inputs which then neurons consider the weighted sum over them and pass it by an activation function and passes out the output to next neuron.\n",
    "\n",
    "\n",
    "<img src=\"https://miro.medium.com/v2/resize:fit:640/format:webp/0*7BDHwjsLAkg-IxEg.png\" style=\"height:300px\" />\n",
    "\n",
    "This is what the architecture of a CNN normally looks like. It will be different depending on the task and data-set we work on. There are some terms in the architecutre of a convolutional neural networks that we need to understand before proceeding with our task of text classification.\n",
    "\n",
    "Convolution: It is a mathematical combination of two relationships to produce a third relationship. Joins two sets of information.\n",
    "\n",
    "Convolution over input: We slide over input data the convolution to extract features by applying a filter/ kernel (both can be used interchangeably). This is important in feature extraction. There are some parameters associated with that sliding filter like how much input to take at once and by what extent should input be overlapped.\n",
    "\n",
    "* Stride: Size of the step filter moves every instance of time.\n",
    "* Filter count: Number of filters we want to use."
   ]
  },
  {
   "cell_type": "markdown",
   "metadata": {},
   "source": [
    "Now, a convolutional neural network is different from that of a neural network because it operates over a volume of inputs.\n",
    "\n",
    "Each layer tries to find a pattern or useful information of the data.\n",
    "\n",
    "An example of multi-channel input is that of an image where the pixels are the input vector and RGB are the 3 input channels representing channel.\n",
    "\n",
    "<img src=\"https://miro.medium.com/v2/resize:fit:720/format:webp/0*SjaW0zqH8g6VIz7w.png\" style=\"height:300px\" />"
   ]
  },
  {
   "cell_type": "markdown",
   "metadata": {},
   "source": [
    "When we are done applying the filter over input and have generated multiple feature maps, an activation function is passed over the output to provide a non-linear relationship for our output.\n",
    "\n",
    "An example of activation function can be ReLu.\n",
    "\n",
    "<img src=\"https://miro.medium.com/v2/resize:fit:622/format:webp/0*zv17qmYwRG9Dwz3r.jpeg\" style=\"height:300px\" />\n",
    "\n",
    "Now, we generally add padding surrounding input so that feature map doesn’t shrink. If we don’t add padding then those feature maps which will be over number of input elements will start shrinking and the useful information over the boundaries start getting lost.\n",
    "\n",
    "<img src=\"https://miro.medium.com/v2/resize:fit:432/format:webp/0*2nJaNoqf38GtNPgW.png\" style=\"height:300px\" />\n",
    "\n",
    "It also improves the performance by making sure that filter size and stride fits in the input well.\n",
    "\n",
    "We are not done yet. We need something that helps us to reduce this high computation in the CNN and not overfit the data. Overfitting will lead the model to memorize the training data rather than learning from it.\n",
    "\n",
    "We use a pooling layer in between the convolutional layers that reduces the dimensional complexity and stil keeps the significant information of the convolutions.\n",
    "\n",
    "One example is of max pooling layer. It finds the maximum of the pool and sends it to the next layer as we can see in the figure below.\n",
    "\n",
    "<img src=\"https://miro.medium.com/v2/resize:fit:640/format:webp/0*iGJ2k5a-jS_bH9G6.png\" style=\"height:300px\" />\n",
    "\n",
    "Sometimes a Flatten layer is used to convert 3-D data into 1-D vector.\n",
    "\n",
    "In a CNN, the last layers are fully connected layers i.e. each node of one layer is connected to each node of the other layer."
   ]
  },
  {
   "cell_type": "markdown",
   "metadata": {},
   "source": [
    "## How to use for text classification?\n",
    "\n",
    "<img src=\"https://miro.medium.com/v2/resize:fit:640/format:webp/0*zGBFInybPXCUDsfp.png\" style=\"height:300px, width:600px\" />\n",
    "\n",
    "**A simple CNN architecture for classifying texts**\n",
    "\n",
    "Let’s first talk about the word embeddings. When using Naive Bayes and KNN we used to represent our text as a vector and ran the algorithm on that vector but we need to consider similarity of words in different reviews because that will help us to look at the review as a whole and instead of focusing on impact of every single word.\n",
    "\n",
    "We use a pre-defined word embedding available from the library. Generally, if the data is not embedded then there are many various embeddings available open-source like Glove and Word2Vec.\n",
    "\n",
    "When we do dot product of vectors representing text, they might turn out zero even when they belong to same class but if you do dot product of those embedded word vectors to find similarity between them then you will be able to find the interrelation of words for a specific class.\n",
    "\n",
    "Then, we slide the filter/ kernel over these embeddings to find convolutions and these are further dimensionally reduced in order to reduce complexity and computation by the Max Pooling layer.\n",
    "\n",
    "Lastly, we have the fully connected layers and the activation function on the outputs that will give values for each class.\n",
    "\n"
   ]
  },
  {
   "cell_type": "code",
   "execution_count": 1,
   "metadata": {},
   "outputs": [
    {
     "ename": "ModuleNotFoundError",
     "evalue": "No module named 'keras'",
     "output_type": "error",
     "traceback": [
      "\u001b[1;31m---------------------------------------------------------------------------\u001b[0m",
      "\u001b[1;31mModuleNotFoundError\u001b[0m                       Traceback (most recent call last)",
      "\u001b[1;32mc:\\Users\\soufiane.lamchoudi\\OneDrive - CNEXIA\\Desktop\\CSC3348-Resources\\CSC3348-Resources\\Introduction-To-CNN\\cnn-snetiment-analysis.ipynb Cell 7\u001b[0m line \u001b[0;36m2\n\u001b[0;32m      <a href='vscode-notebook-cell:/c%3A/Users/soufiane.lamchoudi/OneDrive%20-%20CNEXIA/Desktop/CSC3348-Resources/CSC3348-Resources/Introduction-To-CNN/cnn-snetiment-analysis.ipynb#W0sZmlsZQ%3D%3D?line=0'>1</a>\u001b[0m \u001b[39m# Importing libraries\u001b[39;00m\n\u001b[1;32m----> <a href='vscode-notebook-cell:/c%3A/Users/soufiane.lamchoudi/OneDrive%20-%20CNEXIA/Desktop/CSC3348-Resources/CSC3348-Resources/Introduction-To-CNN/cnn-snetiment-analysis.ipynb#W0sZmlsZQ%3D%3D?line=1'>2</a>\u001b[0m \u001b[39mfrom\u001b[39;00m \u001b[39mkeras\u001b[39;00m\u001b[39m.\u001b[39;00m\u001b[39mdatasets\u001b[39;00m \u001b[39mimport\u001b[39;00m imdb\n\u001b[0;32m      <a href='vscode-notebook-cell:/c%3A/Users/soufiane.lamchoudi/OneDrive%20-%20CNEXIA/Desktop/CSC3348-Resources/CSC3348-Resources/Introduction-To-CNN/cnn-snetiment-analysis.ipynb#W0sZmlsZQ%3D%3D?line=2'>3</a>\u001b[0m \u001b[39mfrom\u001b[39;00m \u001b[39mkeras\u001b[39;00m\u001b[39m.\u001b[39;00m\u001b[39mmodels\u001b[39;00m \u001b[39mimport\u001b[39;00m Sequential\n\u001b[0;32m      <a href='vscode-notebook-cell:/c%3A/Users/soufiane.lamchoudi/OneDrive%20-%20CNEXIA/Desktop/CSC3348-Resources/CSC3348-Resources/Introduction-To-CNN/cnn-snetiment-analysis.ipynb#W0sZmlsZQ%3D%3D?line=3'>4</a>\u001b[0m \u001b[39mfrom\u001b[39;00m \u001b[39mkeras\u001b[39;00m\u001b[39m.\u001b[39;00m\u001b[39mlayers\u001b[39;00m \u001b[39mimport\u001b[39;00m Dense\n",
      "\u001b[1;31mModuleNotFoundError\u001b[0m: No module named 'keras'"
     ]
    }
   ],
   "source": [
    "# Importing libraries\n",
    "from keras.datasets import imdb\n",
    "from keras.models import Sequential\n",
    "from keras.layers import Dense\n",
    "from keras.layers import Flatten\n",
    "from keras.layers.convolutional import Conv1D\n",
    "from keras.layers.convolutional import MaxPooling1D\n",
    "from keras.layers.embeddings import Embedding\n",
    "from keras.preprocessing import sequence\n",
    "# Our dictionary will contain only of the top 7000 words appearing most frequently\n",
    "top_words = 7000\n",
    "# Now we split our data-set into training and test data\n",
    "(X_train, y_train), (X_test, y_test) = imdb.load_data(num_words=top_words)\n",
    "# Looking at the nature of training data\n",
    "print(X_train[0])\n",
    "print(y_train[0])\n",
    "print('Shape of training data: ')\n",
    "print(X_train.shape)\n",
    "print(y_train.shape)\n",
    "print('Shape of test data: ')\n",
    "print(X_test.shape)\n",
    "print(y_test.shape)"
   ]
  },
  {
   "cell_type": "markdown",
   "metadata": {},
   "source": [
    "As we see, our dataset consists of 25,000 training samples and 25,000 test samples. Every data is a vector of text indexed within the limit of top words which we defined as 7000 above.\n",
    "Now, we pad our input data so the kernel filter and stride can fit in input well. We limit the padding of each review input to 450 words. Keras provides us with function to pad sequences. So, we use it on our reviews."
   ]
  },
  {
   "cell_type": "code",
   "execution_count": null,
   "metadata": {},
   "outputs": [],
   "source": [
    "# Padding the data samples to a maximum review length in words\n",
    "max_words = 450\n",
    "X_train = sequence.pad_sequences(X_train, maxlen=max_words)\n",
    "X_test = sequence.pad_sequences(X_test, maxlen=max_words)\n",
    "# Building the CNN Model\n",
    "model = Sequential()      # initilaizing the Sequential nature for CNN model\n",
    "# Adding the embedding layer which will take in maximum of 450 words as input and provide a 32 dimensional output of those words which belong in the top_words dictionary\n",
    "model.add(Embedding(top_words, 32, input_length=max_words))\n",
    "model.add(Conv1D(32, 3, padding='same', activation='relu'))\n",
    "model.add(MaxPooling1D())\n",
    "model.add(Flatten())\n",
    "model.add(Dense(250, activation='relu'))\n",
    "model.add(Dense(1, activation='sigmoid'))"
   ]
  },
  {
   "cell_type": "markdown",
   "metadata": {},
   "source": [
    "The model first consists of embedding layer in which we will find the embeddings of the top 7000 words into a 32 dimensional embedding and the input we can take in is defined as the maximum length of a review allowed.\n",
    "Then, we add the convolutional layer and max-pooling layer. Finally, we flatten those matrices into vectors and add dense layers(basically scale,rotating and transform the vector by multiplying Matrix and vector).\n",
    "The last Dense layer is having one as parameter because we are doing a binary classification and so we need only one output node in our vector."
   ]
  },
  {
   "cell_type": "code",
   "execution_count": null,
   "metadata": {},
   "outputs": [],
   "source": [
    "model.compile(loss='binary_crossentropy', optimizer='adam', metrics=['accuracy'])\n",
    "model.summary()"
   ]
  },
  {
   "cell_type": "markdown",
   "metadata": {},
   "source": [
    "Now, we will fit our training data and define the the epochs(number of passes through dataset) and batch size(nunmber of samples processed before updating the model) for our learning model.\n",
    "\n",
    "Batch size is kept greater than or equal to 1 and less than the number of samples in training data."
   ]
  },
  {
   "cell_type": "code",
   "execution_count": null,
   "metadata": {},
   "outputs": [],
   "source": [
    "# Fitting the data onto model\n",
    "model.fit(X_train, y_train, validation_data=(X_test, y_test), epochs=2, batch_size=128, verbose=2)\n",
    "# Getting score metrics from our model\n",
    "scores = model.evaluate(X_test, y_test, verbose=0)\n",
    "# Displays the accuracy of correct sentiment prediction over test data\n",
    "print(\"Accuracy: %.2f%%\" % (scores[1]*100))"
   ]
  },
  {
   "cell_type": "markdown",
   "metadata": {},
   "source": [
    "## Tips\n",
    "We can improve our CNN model by adding more layers. It is always preferred to have more(dense) layers than to have wide layers of less number.\n",
    "But, we must take care to not overfit the data and for that we can try using various regularization methods."
   ]
  },
  {
   "cell_type": "markdown",
   "metadata": {},
   "source": []
  }
 ],
 "metadata": {
  "kernelspec": {
   "display_name": "Python 3",
   "language": "python",
   "name": "python3"
  },
  "language_info": {
   "codemirror_mode": {
    "name": "ipython",
    "version": 3
   },
   "file_extension": ".py",
   "mimetype": "text/x-python",
   "name": "python",
   "nbconvert_exporter": "python",
   "pygments_lexer": "ipython3",
   "version": "3.11.5"
  },
  "orig_nbformat": 4
 },
 "nbformat": 4,
 "nbformat_minor": 2
}
